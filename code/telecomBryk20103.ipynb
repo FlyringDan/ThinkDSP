{
 "cells": [
  {
   "cell_type": "markdown",
   "metadata": {
    "id": "v_K58NBjcs7_"
   },
   "source": [
    "# Лабораторная работа 1. Сигналы и звуки\n",
    "\n"
   ]
  },
  {
   "cell_type": "code",
   "execution_count": 2,
   "metadata": {
    "id": "rIJw8jn0Bgtv",
    "tags": []
   },
   "outputs": [],
   "source": [
    "import os"
   ]
  },
  {
   "cell_type": "code",
   "execution_count": null,
   "metadata": {
    "id": "IELrx6Hwcvlr"
   },
   "outputs": [],
   "source": []
  },
  {
   "cell_type": "code",
   "execution_count": 3,
   "metadata": {
    "colab": {
     "base_uri": "https://localhost:8080/",
     "height": 74
    },
    "id": "0Jqy5w2zHKXZ",
    "outputId": "d11848a3-cd61-4ff2-be65-abcf0bdb1500",
    "tags": []
   },
   "outputs": [
    {
     "ename": "ModuleNotFoundError",
     "evalue": "No module named 'thinkdsp'",
     "output_type": "error",
     "traceback": [
      "\u001b[1;31m---------------------------------------------------------------------------\u001b[0m",
      "\u001b[1;31mModuleNotFoundError\u001b[0m                       Traceback (most recent call last)",
      "Cell \u001b[1;32mIn[3], line 1\u001b[0m\n\u001b[1;32m----> 1\u001b[0m \u001b[38;5;28;01mfrom\u001b[39;00m \u001b[38;5;21;01mthinkdsp\u001b[39;00m \u001b[38;5;28;01mimport\u001b[39;00m read_wave\n\u001b[0;32m      3\u001b[0m wave \u001b[38;5;241m=\u001b[39m read_wave(\u001b[38;5;124m'\u001b[39m\u001b[38;5;124me:/wav/Sound_01822.wav\u001b[39m\u001b[38;5;124m'\u001b[39m)\n\u001b[0;32m      4\u001b[0m wave\u001b[38;5;241m.\u001b[39mnormalize()\n",
      "\u001b[1;31mModuleNotFoundError\u001b[0m: No module named 'thinkdsp'"
     ]
    }
   ],
   "source": [
    "from thinkdsp import read_wave\n",
    "\n",
    "wave = read_wave('e:/wav/Sound_01822.wav')\n",
    "wave.normalize()\n",
    "wave.make_audio()"
   ]
  },
  {
   "cell_type": "code",
   "execution_count": null,
   "metadata": {
    "colab": {
     "base_uri": "https://localhost:8080/",
     "height": 265
    },
    "id": "K3G5uHO3SjpQ",
    "outputId": "b3e2b296-4c0a-4d7d-a266-45b8d36411f2",
    "tags": []
   },
   "outputs": [],
   "source": [
    "wave.plot()"
   ]
  },
  {
   "cell_type": "code",
   "execution_count": null,
   "metadata": {
    "colab": {
     "base_uri": "https://localhost:8080/",
     "height": 74
    },
    "id": "20R8uXRiSlre",
    "outputId": "3b505c72-5a2b-4ef6-8bd1-94c86009e325",
    "tags": []
   },
   "outputs": [],
   "source": [
    "segment = wave.segment(start=1.1, duration=0.3)\n",
    "segment.make_audio()"
   ]
  },
  {
   "cell_type": "code",
   "execution_count": null,
   "metadata": {
    "colab": {
     "base_uri": "https://localhost:8080/",
     "height": 265
    },
    "id": "kBxRADvoSrmA",
    "outputId": "bdaeb5e9-5bb5-44ef-aa1e-d5341d226416",
    "tags": []
   },
   "outputs": [],
   "source": [
    "segment.plot()"
   ]
  },
  {
   "cell_type": "code",
   "execution_count": null,
   "metadata": {
    "colab": {
     "base_uri": "https://localhost:8080/",
     "height": 265
    },
    "id": "hChqfqb8SwD_",
    "outputId": "5de7c705-46dc-4160-c6bd-85cf1b908673",
    "tags": []
   },
   "outputs": [],
   "source": [
    "segment.segment(start=1.1, duration=0.005).plot()"
   ]
  },
  {
   "cell_type": "code",
   "execution_count": null,
   "metadata": {
    "colab": {
     "base_uri": "https://localhost:8080/",
     "height": 265
    },
    "id": "YokYWdWhS8b6",
    "outputId": "a6af509e-6fb2-4434-d1fa-a08728a0c271",
    "tags": []
   },
   "outputs": [],
   "source": [
    "spectrum = segment.make_spectrum()\n",
    "spectrum.plot(high=7000)"
   ]
  },
  {
   "cell_type": "code",
   "execution_count": null,
   "metadata": {
    "colab": {
     "base_uri": "https://localhost:8080/",
     "height": 265
    },
    "id": "7FzIDsFFTCBx",
    "outputId": "72a6c7b7-6e38-4d4e-a0bb-f8535eec9042",
    "tags": []
   },
   "outputs": [],
   "source": [
    "spectrum = segment.make_spectrum()\n",
    "spectrum.plot(high=1000)"
   ]
  },
  {
   "cell_type": "code",
   "execution_count": null,
   "metadata": {
    "colab": {
     "base_uri": "https://localhost:8080/"
    },
    "id": "Ysgr22ueTDyq",
    "outputId": "4fc53f0d-7d61-4042-ff85-5461466da809",
    "tags": []
   },
   "outputs": [],
   "source": [
    "spectrum.peaks()[:30]"
   ]
  },
  {
   "cell_type": "code",
   "execution_count": null,
   "metadata": {
    "id": "KgK9vKzKTGZI",
    "tags": []
   },
   "outputs": [],
   "source": [
    "spectrum.low_pass(2000)"
   ]
  },
  {
   "cell_type": "code",
   "execution_count": null,
   "metadata": {
    "colab": {
     "base_uri": "https://localhost:8080/",
     "height": 74
    },
    "id": "lSXkM8qhTJIO",
    "outputId": "fbf5b3bd-92a8-427e-955d-fb7f841ab879",
    "tags": []
   },
   "outputs": [],
   "source": [
    "spectrum.make_wave().make_audio()"
   ]
  },
  {
   "cell_type": "code",
   "execution_count": null,
   "metadata": {
    "id": "FOTP-t25Tc2Z",
    "tags": []
   },
   "outputs": [],
   "source": [
    "from thinkdsp import decorate\n",
    "from IPython.display import display\n",
    "\n",
    "def filter_wave(wave, start, duration, cutoff):\n",
    "    \"\"\"Selects a segment from the wave and filters it.\n",
    "\n",
    "    Plots the spectrum and displays an Audio widget.\n",
    "\n",
    "    wave: Wave object\n",
    "    start: time in s\n",
    "    duration: time in s\n",
    "    cutoff: frequency in Hz\n",
    "    \"\"\"\n",
    "    segment = wave.segment(start, duration)\n",
    "    spectrum = segment.make_spectrum()\n",
    "\n",
    "    spectrum.plot(high=5000, color='0.7')\n",
    "    spectrum.low_pass(cutoff)\n",
    "    spectrum.plot(high=5000, color='#045a8d')\n",
    "    decorate(xlabel='Frequency (Hz)')\n",
    "\n",
    "    audio = spectrum.make_wave().make_audio()\n",
    "    display(audio)"
   ]
  },
  {
   "cell_type": "code",
   "execution_count": null,
   "metadata": {
    "colab": {
     "base_uri": "https://localhost:8080/",
     "height": 450,
     "referenced_widgets": [
      "c915831a8f4e45ba912c9688d26eff78",
      "3404f792e53f433492ea8c1710f33d45",
      "f987331d5951480cbba264d060c2eb76",
      "7933f622aa7748198a59af746c2993af",
      "c7de73cc6ba74931bee463e5b3282f23",
      "a107284bbbed489bb1bfaae965e39b4e",
      "c2badfe80a09452ca114f0c54a635a70",
      "45dab95b00bc4c9bbe0519a47510faf0",
      "0328f270ef6a4ba1bd378bcefa25d00b",
      "44b140c07962433eac815d6c1b58dcf4",
      "d872bdf9204649caa296629b7f4df77c",
      "ac986f568c494c82aee8495160fb5d1b",
      "3319d748f00d41fa96c09ec6bf58a822",
      "50bd4db3b77d4e89915cd5daf3e43653"
     ]
    },
    "id": "xD_Bw_nbTe5G",
    "outputId": "24daf45c-320f-4dda-9fd7-d80e48082694",
    "tags": []
   },
   "outputs": [],
   "source": [
    "from ipywidgets import interact, fixed\n",
    "\n",
    "interact(filter_wave, wave=fixed(wave),\n",
    "         start=(0, 5, 0.1), duration=(0, 5, 0.1), cutoff=(0, 5000, 100));"
   ]
  },
  {
   "cell_type": "raw",
   "metadata": {
    "id": "ynPKJxLcUBUe"
   },
   "source": [
    "Упражнение 2"
   ]
  },
  {
   "cell_type": "code",
   "execution_count": null,
   "metadata": {
    "id": "HVYuQYGccfkJ"
   },
   "outputs": [],
   "source": []
  },
  {
   "cell_type": "code",
   "execution_count": null,
   "metadata": {
    "colab": {
     "base_uri": "https://localhost:8080/",
     "height": 265
    },
    "id": "1Ow-MlqsUE6S",
    "outputId": "0f94cd82-68c8-4884-e713-d91fe95d1367",
    "tags": []
   },
   "outputs": [],
   "source": [
    "from thinkdsp import SinSignal\n",
    "\n",
    "signal = (SinSignal(freq=200, amp=1.0) +\n",
    "          SinSignal(freq=400, amp=0.5) +\n",
    "          SinSignal(freq=600, amp=0.25))\n",
    "signal.plot()"
   ]
  },
  {
   "cell_type": "code",
   "execution_count": null,
   "metadata": {
    "id": "cJqJ_f_EUSiD",
    "tags": []
   },
   "outputs": [],
   "source": [
    "wave2 = signal.make_wave(duration=1)\n",
    "wave2.apodize()"
   ]
  },
  {
   "cell_type": "code",
   "execution_count": null,
   "metadata": {
    "colab": {
     "base_uri": "https://localhost:8080/",
     "height": 74
    },
    "id": "AwDvv9AuUVND",
    "outputId": "49fdce0a-ba8f-43dc-afd0-842ec5c344f7",
    "tags": []
   },
   "outputs": [],
   "source": [
    "wave2.make_audio()"
   ]
  },
  {
   "cell_type": "code",
   "execution_count": null,
   "metadata": {
    "colab": {
     "base_uri": "https://localhost:8080/",
     "height": 265
    },
    "id": "jG_ZloyBUela",
    "outputId": "8611e8c9-948d-4c42-e2b1-e45d54c3692a",
    "tags": []
   },
   "outputs": [],
   "source": [
    "spectrum = wave2.make_spectrum()\n",
    "spectrum.plot(high=1000)"
   ]
  },
  {
   "cell_type": "code",
   "execution_count": null,
   "metadata": {
    "colab": {
     "base_uri": "https://localhost:8080/",
     "height": 74
    },
    "id": "VvbI0-XEUkA9",
    "outputId": "ee83f2f8-a260-46c5-e6a1-9ebcfcf0f400",
    "tags": []
   },
   "outputs": [],
   "source": [
    "signal += SinSignal(freq=450)\n",
    "signal.make_wave().make_audio()"
   ]
  },
  {
   "cell_type": "markdown",
   "metadata": {
    "id": "krSFBXn5U1y1"
   },
   "source": [
    "3 Упражнение"
   ]
  },
  {
   "cell_type": "code",
   "execution_count": null,
   "metadata": {
    "colab": {
     "base_uri": "https://localhost:8080/",
     "height": 74
    },
    "id": "OhQuuFkzU4WA",
    "outputId": "ab7a0a22-2e22-4366-fad6-b27d4f02917f",
    "tags": []
   },
   "outputs": [],
   "source": [
    "wave3 = read_wave('e:/wav/Sound_01822.wav')\n",
    "wave3.normalize()\n",
    "wave3.make_audio()"
   ]
  },
  {
   "cell_type": "code",
   "execution_count": null,
   "metadata": {
    "id": "-3vnDJVuVA3p",
    "tags": []
   },
   "outputs": [],
   "source": [
    "def stretch(wave, factor):\n",
    "    wave.ts *= factor\n",
    "    wave.framerate /= factor"
   ]
  },
  {
   "cell_type": "code",
   "execution_count": null,
   "metadata": {
    "colab": {
     "base_uri": "https://localhost:8080/",
     "height": 74
    },
    "id": "Ue5O73XCVDmC",
    "outputId": "a12a93f0-bf40-4998-edcf-c48d146c5f75",
    "tags": []
   },
   "outputs": [],
   "source": [
    "stretch(wave3, 0.5)\n",
    "wave3.make_audio()"
   ]
  },
  {
   "cell_type": "code",
   "execution_count": null,
   "metadata": {
    "colab": {
     "base_uri": "https://localhost:8080/",
     "height": 265
    },
    "id": "VrBbed_CVIS9",
    "outputId": "d8c65eb6-8def-4b67-998b-a2756641341e",
    "tags": []
   },
   "outputs": [],
   "source": [
    "wave3.plot()"
   ]
  },
  {
   "cell_type": "code",
   "execution_count": null,
   "metadata": {
    "id": "Lg5WESoPVK_4"
   },
   "outputs": [],
   "source": []
  },
  {
   "cell_type": "markdown",
   "metadata": {
    "id": "UTnRp1BFeB5X"
   },
   "source": [
    "# Лабораторная работа 2. Гармоники\n"
   ]
  },
  {
   "cell_type": "code",
   "execution_count": null,
   "metadata": {
    "id": "VxElhJRnVp3p"
   },
   "outputs": [],
   "source": [
    "import os\n",
    "from thinkdsp import decorate"
   ]
  },
  {
   "cell_type": "code",
   "execution_count": null,
   "metadata": {
    "id": "gQowHvsMW7wY"
   },
   "outputs": [],
   "source": [
    "from thinkdsp import Sinusoid\n",
    "from thinkdsp import normalize, unbias\n",
    "import numpy as np\n",
    "\n",
    "class SawtoothSignal(Sinusoid):\n",
    "  def evaluate(self, ts):\n",
    "        cycles = self.freq * ts + self.offset / np.pi / 2\n",
    "        frac, _ = np.modf(cycles)\n",
    "        ys = normalize(unbias(frac), self.amp)\n",
    "        return ys"
   ]
  },
  {
   "cell_type": "code",
   "execution_count": null,
   "metadata": {
    "colab": {
     "base_uri": "https://localhost:8080/",
     "height": 74
    },
    "id": "GoIAcXJJXl8j",
    "outputId": "a42aebf6-fecc-4eed-df9c-8ad795667b1c"
   },
   "outputs": [],
   "source": [
    "sawtooth = SawtoothSignal().make_wave(duration=0.6, framerate=36500)\n",
    "sawtooth.make_audio()"
   ]
  },
  {
   "cell_type": "code",
   "execution_count": null,
   "metadata": {
    "colab": {
     "base_uri": "https://localhost:8080/",
     "height": 297
    },
    "id": "-y-GniT-Xpjm",
    "outputId": "b64ddcde-48aa-4812-aa40-a8a5dd03e97a"
   },
   "outputs": [],
   "source": [
    "sawtooth.make_spectrum().plot()\n",
    "decorate(xlabel='Frequency (Hz)')"
   ]
  },
  {
   "cell_type": "code",
   "execution_count": null,
   "metadata": {
    "colab": {
     "base_uri": "https://localhost:8080/",
     "height": 297
    },
    "id": "_8OrecX9XypJ",
    "outputId": "e2c5f9dd-d8fa-415e-8f79-5746f145a896"
   },
   "outputs": [],
   "source": [
    "from thinkdsp import SquareSignal\n",
    "\n",
    "sawtooth.make_spectrum().plot(color='red')\n",
    "square = SquareSignal(amp=0.5).make_wave(duration=0.6, framerate=36500)\n",
    "square.make_spectrum().plot()\n",
    "decorate(xlabel='Frequency (Hz)')"
   ]
  },
  {
   "cell_type": "code",
   "execution_count": null,
   "metadata": {
    "colab": {
     "base_uri": "https://localhost:8080/",
     "height": 297
    },
    "id": "VFCOqcFeX_2M",
    "outputId": "726a4788-a227-4592-e3b1-66af3300d78e"
   },
   "outputs": [],
   "source": [
    "from thinkdsp import TriangleSignal\n",
    "\n",
    "sawtooth.make_spectrum().plot(color='green')\n",
    "triangle = TriangleSignal(amp=0.8).make_wave(duration=0.6, framerate=36500)\n",
    "triangle.make_spectrum().plot()\n",
    "decorate(xlabel='Frequency (Hz)')"
   ]
  },
  {
   "cell_type": "markdown",
   "metadata": {
    "id": "Aeoxf3lQYfy3"
   },
   "source": [
    "Гармоники треугольной волны затухают пропорционально 1/f^2, а пилообразные затухают как 1/f"
   ]
  },
  {
   "cell_type": "markdown",
   "metadata": {
    "id": "FGHAkXhjY3jz"
   },
   "source": [
    "Упражнение 2"
   ]
  },
  {
   "cell_type": "code",
   "execution_count": null,
   "metadata": {
    "id": "_a1tOxoRY5ny"
   },
   "outputs": [],
   "source": [
    "square = SquareSignal(1500).make_wave(duration=0.7, framerate=15000)"
   ]
  },
  {
   "cell_type": "code",
   "execution_count": null,
   "metadata": {
    "colab": {
     "base_uri": "https://localhost:8080/",
     "height": 297
    },
    "id": "zlW83UI3ZIVX",
    "outputId": "ea5db8ae-8077-474e-e0d8-545565908bbf"
   },
   "outputs": [],
   "source": [
    "square.make_spectrum().plot()\n",
    "decorate(xlabel='Frequency (Hz)')"
   ]
  },
  {
   "cell_type": "markdown",
   "metadata": {
    "id": "vtwkWkvnZOYx"
   },
   "source": [
    "Создали треугольный сигнал и посмотрели на его спектр"
   ]
  },
  {
   "cell_type": "code",
   "execution_count": null,
   "metadata": {
    "colab": {
     "base_uri": "https://localhost:8080/",
     "height": 74
    },
    "id": "4VFnsc7EZXHg",
    "outputId": "a1e16d9b-7438-49d3-fb25-a2c924aaf174"
   },
   "outputs": [],
   "source": [
    "square.make_audio()"
   ]
  },
  {
   "cell_type": "markdown",
   "metadata": {
    "id": "Ea-zvwzPZ77m"
   },
   "source": [
    "Сравним с 1000hz"
   ]
  },
  {
   "cell_type": "code",
   "execution_count": null,
   "metadata": {
    "colab": {
     "base_uri": "https://localhost:8080/",
     "height": 74
    },
    "id": "cxCPBz9RZkK8",
    "outputId": "d4c24014-48e2-4dfc-d2c2-99d4270b1939"
   },
   "outputs": [],
   "source": [
    "from thinkdsp import SinSignal\n",
    "\n",
    "SinSignal(1000).make_wave(duration=0.7, framerate=15000).make_audio()"
   ]
  },
  {
   "cell_type": "markdown",
   "metadata": {
    "id": "7vZzpM0Ya9Zj"
   },
   "source": [
    "Упражнение 3"
   ]
  },
  {
   "cell_type": "code",
   "execution_count": null,
   "metadata": {
    "colab": {
     "base_uri": "https://localhost:8080/",
     "height": 297
    },
    "id": "sQQ9pdcGbAGl",
    "outputId": "26625123-071e-4099-cd70-85acd5d9e2f4"
   },
   "outputs": [],
   "source": [
    "triangle = TriangleSignal().make_wave(duration=0.005)\n",
    "triangle.plot()\n",
    "decorate(xlabel='Time (sec)')"
   ]
  },
  {
   "cell_type": "code",
   "execution_count": null,
   "metadata": {
    "colab": {
     "base_uri": "https://localhost:8080/"
    },
    "id": "pY5SrVB3biXR",
    "outputId": "41ba3bd0-4025-4fec-822e-2e0e08b0ccd5"
   },
   "outputs": [],
   "source": [
    "spectrum = triangle.make_spectrum()\n",
    "spectrum.hs[0]"
   ]
  },
  {
   "cell_type": "code",
   "execution_count": null,
   "metadata": {
    "colab": {
     "base_uri": "https://localhost:8080/",
     "height": 297
    },
    "id": "fKcvrf9XbkFP",
    "outputId": "6faabb8f-81cd-4295-f491-cca6eeb57147"
   },
   "outputs": [],
   "source": [
    "spectrum.hs[0] = 150\n",
    "triangle.plot(color='red')\n",
    "spectrum.make_wave().plot()\n",
    "decorate(xlabel='Time (s)')"
   ]
  },
  {
   "cell_type": "markdown",
   "metadata": {
    "id": "l_UYkxumb4qc"
   },
   "source": [
    "Компонент нулевой частоты представляет собой сумму всех значений в сигнале, если сигнал несмещен, компонент нулевой частоты равен 0"
   ]
  },
  {
   "cell_type": "markdown",
   "metadata": {
    "id": "fHTU4dhCb7gQ"
   },
   "source": [
    "Упражнение 4"
   ]
  },
  {
   "cell_type": "code",
   "execution_count": null,
   "metadata": {
    "id": "qAn9EGm9e-rf"
   },
   "outputs": [],
   "source": [
    "def filter_spectrum(spectrum):\n",
    "    spectrum.hs[1:] /= spectrum.fs[1:]\n",
    "    spectrum.hs[0] = 0"
   ]
  },
  {
   "cell_type": "code",
   "execution_count": null,
   "metadata": {
    "colab": {
     "base_uri": "https://localhost:8080/",
     "height": 74
    },
    "id": "yIoLRK5KfEcC",
    "outputId": "d5039d7c-9937-48c7-d359-bde053ffabcd"
   },
   "outputs": [],
   "source": [
    "wave = TriangleSignal(freq=450).make_wave(duration=0.7)\n",
    "wave.make_audio()"
   ]
  },
  {
   "cell_type": "markdown",
   "metadata": {
    "id": "kd3DbO6kfcIQ"
   },
   "source": [
    "Масштабируем изображение"
   ]
  },
  {
   "cell_type": "code",
   "execution_count": null,
   "metadata": {
    "colab": {
     "base_uri": "https://localhost:8080/",
     "height": 297
    },
    "id": "bXkMf4Lkfmxb",
    "outputId": "5f4a3eae-af0a-47ad-a392-8b3f18939ded"
   },
   "outputs": [],
   "source": [
    "spectrum = wave.make_spectrum()\n",
    "spectrum.plot(high=15000, color='red')\n",
    "filter_spectrum(spectrum)\n",
    "spectrum.scale(450)\n",
    "spectrum.plot(high=15000)\n",
    "decorate(xlabel='Frequency (Hz)')"
   ]
  },
  {
   "cell_type": "markdown",
   "metadata": {
    "id": "U5XDP1hGfyvl"
   },
   "source": [
    "Фильтр подавляет гармоники, поэтому он действует как фильтр нижних частот."
   ]
  },
  {
   "cell_type": "code",
   "execution_count": null,
   "metadata": {
    "colab": {
     "base_uri": "https://localhost:8080/",
     "height": 74
    },
    "id": "pU2xL00hfz_N",
    "outputId": "b9093432-0c24-4206-c595-58f925cc3f9c"
   },
   "outputs": [],
   "source": [
    "filtered = spectrum.make_wave()\n",
    "filtered.make_audio()"
   ]
  },
  {
   "cell_type": "markdown",
   "metadata": {
    "id": "8DbDQWoEf4Yz"
   },
   "source": [
    "Упраженение 5"
   ]
  },
  {
   "cell_type": "code",
   "execution_count": null,
   "metadata": {
    "colab": {
     "base_uri": "https://localhost:8080/",
     "height": 74
    },
    "id": "7nvfG-Qbf8a1",
    "outputId": "7ff86b02-ccfd-47b8-cdc1-3cea0f171835"
   },
   "outputs": [],
   "source": [
    "freq = 600\n",
    "signal = SawtoothSignal(freq=freq)\n",
    "wave = signal.make_wave(duration=0.7, framerate=25000)\n",
    "wave.make_audio()"
   ]
  },
  {
   "cell_type": "code",
   "execution_count": null,
   "metadata": {
    "colab": {
     "base_uri": "https://localhost:8080/",
     "height": 297
    },
    "id": "SYJ2RxV3gF7G",
    "outputId": "d53b23f1-d94b-4465-faab-f8fc4480e61d"
   },
   "outputs": [],
   "source": [
    "spectrum = wave.make_spectrum()\n",
    "spectrum.plot()\n",
    "decorate(xlabel='Frequency (Hz)')"
   ]
  },
  {
   "cell_type": "markdown",
   "metadata": {
    "id": "qdVLFw3zgQ5y"
   },
   "source": [
    "\n",
    "Если мы применим фильтр, который мы написали в предыдущем упражнении, мы можем уменьшить гармоники"
   ]
  },
  {
   "cell_type": "code",
   "execution_count": null,
   "metadata": {
    "colab": {
     "base_uri": "https://localhost:8080/",
     "height": 297
    },
    "id": "oVnLb4M-gSDB",
    "outputId": "40ea9094-d461-4b57-9b1d-f92b8208b17b"
   },
   "outputs": [],
   "source": [
    "spectrum.plot(color='red')\n",
    "filter_spectrum(spectrum)\n",
    "spectrum.scale(freq)\n",
    "spectrum.plot()\n",
    "decorate(xlabel='Frequency (Hz)')"
   ]
  },
  {
   "cell_type": "code",
   "execution_count": null,
   "metadata": {
    "colab": {
     "base_uri": "https://localhost:8080/",
     "height": 74
    },
    "id": "aJ3zf5T9gY3y",
    "outputId": "894c8f7e-2091-4576-daa1-cc071dd07bb2"
   },
   "outputs": [],
   "source": [
    "wave = spectrum.make_wave()\n",
    "wave.make_audio()"
   ]
  },
  {
   "cell_type": "code",
   "execution_count": null,
   "metadata": {
    "colab": {
     "base_uri": "https://localhost:8080/",
     "height": 297
    },
    "id": "XZ5yYzoIgcN4",
    "outputId": "8a34d9e9-38f8-4767-a316-7f28a5ee474e"
   },
   "outputs": [],
   "source": [
    "wave.segment(duration=0.02).plot()\n",
    "decorate(xlabel='Time (sec)')"
   ]
  },
  {
   "cell_type": "markdown",
   "metadata": {
    "id": "ZIGDxHeBgliW"
   },
   "source": [
    "Другой подход заключается в суммировании серии косинусоидальных сигналов с правильными частотами и амплитудами."
   ]
  },
  {
   "cell_type": "code",
   "execution_count": null,
   "metadata": {
    "colab": {
     "base_uri": "https://localhost:8080/"
    },
    "id": "U4wou7qMgnHt",
    "outputId": "035b651b-f3e6-4fa9-ddcb-6ee0092b1073"
   },
   "outputs": [],
   "source": [
    "from thinkdsp import CosSignal\n",
    "\n",
    "freqs = np.arange(500, 9500, 500)\n",
    "amps = 1 / freqs**2\n",
    "\n",
    "signal = sum(CosSignal(freq, amp) for freq, amp in zip(freqs, amps))\n",
    "signal"
   ]
  },
  {
   "cell_type": "code",
   "execution_count": null,
   "metadata": {
    "colab": {
     "base_uri": "https://localhost:8080/",
     "height": 297
    },
    "id": "xlpRMVPGguEN",
    "outputId": "fc56315e-cfae-4c68-aaee-ec621dd556b5"
   },
   "outputs": [],
   "source": [
    "spectrum = wave.make_spectrum()\n",
    "spectrum.plot()\n",
    "decorate(xlabel='Frequency (Hz)')"
   ]
  },
  {
   "cell_type": "code",
   "execution_count": null,
   "metadata": {
    "colab": {
     "base_uri": "https://localhost:8080/",
     "height": 74
    },
    "id": "hyuv7YkJgxzf",
    "outputId": "3bd6865d-7b83-4e68-9717-ef9e6ae59682"
   },
   "outputs": [],
   "source": [
    "wave = signal.make_wave(duration=0.7, framerate=25000)\n",
    "wave.make_audio()"
   ]
  },
  {
   "cell_type": "code",
   "execution_count": null,
   "metadata": {
    "colab": {
     "base_uri": "https://localhost:8080/",
     "height": 297
    },
    "id": "kZcpF3hjg0NK",
    "outputId": "6357f3c2-413b-49be-8c14-ec28e6147e16"
   },
   "outputs": [],
   "source": [
    "wave.segment(duration=0.02).plot()\n",
    "decorate(xlabel='Time (sec)')"
   ]
  },
  {
   "cell_type": "markdown",
   "metadata": {
    "id": "lb4Z_w6FhAfb"
   },
   "source": [
    "Есть некая схожесть с пароболическими сигналами"
   ]
  },
  {
   "cell_type": "code",
   "execution_count": null,
   "metadata": {
    "colab": {
     "base_uri": "https://localhost:8080/",
     "height": 74
    },
    "id": "ENwRloHrhFCN",
    "outputId": "f8516d88-6223-4a58-f5dc-87b35536dcc3"
   },
   "outputs": [],
   "source": [
    "from thinkdsp import ParabolicSignal\n",
    "\n",
    "wave = ParabolicSignal(freq=600).make_wave(duration=0.7, framerate=25000)\n",
    "wave.make_audio()"
   ]
  },
  {
   "cell_type": "code",
   "execution_count": null,
   "metadata": {
    "colab": {
     "base_uri": "https://localhost:8080/",
     "height": 297
    },
    "id": "gAQeSL7OhVGl",
    "outputId": "afdebda6-0ecc-48d2-b4d5-33383738be09"
   },
   "outputs": [],
   "source": [
    "wave.segment(duration=0.02).plot()\n",
    "decorate(xlabel='Time (sec)')"
   ]
  },
  {
   "cell_type": "code",
   "execution_count": null,
   "metadata": {
    "colab": {
     "base_uri": "https://localhost:8080/",
     "height": 297
    },
    "id": "G5Zc1Nv0hhUW",
    "outputId": "e4bb2b19-d887-4e32-ee4e-9a936c13610a"
   },
   "outputs": [],
   "source": [
    "spectrum = wave.make_spectrum()\n",
    "spectrum.plot()\n",
    "decorate(xlabel='Frequency (Hz)')"
   ]
  },
  {
   "cell_type": "markdown",
   "metadata": {
    "id": "h6WQFftQeQn3"
   },
   "source": [
    "# Лабораторная работа 3. Апериодические сигналы"
   ]
  },
  {
   "cell_type": "code",
   "execution_count": null,
   "metadata": {
    "id": "j8Gs2vq9qVUX"
   },
   "outputs": [],
   "source": [
    "import os\n",
    "import numpy as np\n",
    "import matplotlib.pyplot as plt\n",
    "from thinkdsp import decorate"
   ]
  },
  {
   "cell_type": "code",
   "execution_count": null,
   "metadata": {
    "id": "vDppkrWZqoLy"
   },
   "outputs": [],
   "source": [
    "from thinkdsp import SinSignal\n",
    "\n",
    "signal = SinSignal(freq=550)\n",
    "duration = signal.period * 30.5\n",
    "wave = signal.make_wave(duration)\n",
    "spectrum = wave.make_spectrum()"
   ]
  },
  {
   "cell_type": "code",
   "execution_count": null,
   "metadata": {
    "colab": {
     "base_uri": "https://localhost:8080/",
     "height": 297
    },
    "id": "vHwMhJdUqp9m",
    "outputId": "83c8e308-06d2-4da0-eebb-eeae175e5600"
   },
   "outputs": [],
   "source": [
    "spectrum.plot(high=1000)\n",
    "decorate(xlabel='Frequency (Hz)')"
   ]
  },
  {
   "cell_type": "code",
   "execution_count": null,
   "metadata": {
    "colab": {
     "base_uri": "https://localhost:8080/",
     "height": 297
    },
    "id": "YbrQ_6Yvq0Xf",
    "outputId": "0582803f-f562-450e-8a0c-c1c41fee5ed3"
   },
   "outputs": [],
   "source": [
    "for window_func in [np.bartlett, np.blackman, np.hamming, np.hanning]:\n",
    "    wave = signal.make_wave(duration)\n",
    "    wave.ys *= window_func(len(wave.ys))\n",
    "\n",
    "    spectrum = wave.make_spectrum()\n",
    "    spectrum.plot(high=1000, label=window_func.__name__)\n",
    "\n",
    "decorate(xlabel='Frequency (Hz)')"
   ]
  },
  {
   "cell_type": "markdown",
   "metadata": {
    "id": "nSxi1Y8brBFl"
   },
   "source": [
    "Все четыре хорошо справляются с уменьшением утечек. Фильтр Бартлетта оставляет некоторый остаточный «звон». Фильтр Хэмминга рассеивает наименьшее количество энергии."
   ]
  },
  {
   "cell_type": "markdown",
   "metadata": {
    "id": "vEbDpmu_rD4g"
   },
   "source": [
    "Упражнение 2"
   ]
  },
  {
   "cell_type": "code",
   "execution_count": null,
   "metadata": {
    "id": "vdE-QcYHrGf9"
   },
   "outputs": [],
   "source": [
    "from thinkdsp import Chirp\n",
    "from thinkdsp import normalize, unbias\n",
    "\n",
    "PI2 = 2 * np.pi\n",
    "\n",
    "class SawtoothChirp(Chirp):\n",
    "   def evaluate(self, ts):\n",
    "        freqs = np.linspace(self.start, self.end, len(ts))\n",
    "        dts = np.diff(ts, prepend=0)\n",
    "        dphis = PI2 * freqs * dts\n",
    "        phases = np.cumsum(dphis)\n",
    "        cycles = phases / PI2\n",
    "        frac, _ = np.modf(cycles)\n",
    "        ys =  normalize(unbias(frac), self.amp)\n",
    "        return ys"
   ]
  },
  {
   "cell_type": "code",
   "execution_count": null,
   "metadata": {
    "colab": {
     "base_uri": "https://localhost:8080/",
     "height": 74
    },
    "id": "oKRCtewGrWkV",
    "outputId": "55f548ad-08c6-4475-ff8b-579e9622c8aa"
   },
   "outputs": [],
   "source": [
    "signal = SawtoothChirp(start=220, end=880)\n",
    "wave = signal.make_wave(duration=1, framerate=6000)\n",
    "wave.apodize()\n",
    "wave.make_audio()"
   ]
  },
  {
   "cell_type": "code",
   "execution_count": null,
   "metadata": {
    "colab": {
     "base_uri": "https://localhost:8080/",
     "height": 297
    },
    "id": "Y8N7q9SkrjIz",
    "outputId": "a8696642-b2fa-4d8e-d49c-cdbc926002b0"
   },
   "outputs": [],
   "source": [
    "sp = wave.make_spectrogram(512)\n",
    "sp.plot(high=1000)\n",
    "decorate(xlabel='Time (s)', ylabel='Frequency (Hz)')"
   ]
  },
  {
   "cell_type": "markdown",
   "metadata": {
    "id": "mIDVUCCRrvAV"
   },
   "source": [
    "При относительно низкой частоте кадров можно увидеть искаженные гармоники, отражающиеся от частоты сворачивания. И можно услышать их как фоновое шипение. Если увеличить частоту кадров - они исчезают.\n",
    "\n",
    "Пилообразный писк можно распознать как сигнал тревоги."
   ]
  },
  {
   "cell_type": "code",
   "execution_count": null,
   "metadata": {
    "id": "c-WnEKxdsA1L"
   },
   "outputs": [],
   "source": []
  },
  {
   "cell_type": "code",
   "execution_count": null,
   "metadata": {
    "colab": {
     "base_uri": "https://localhost:8080/",
     "height": 74
    },
    "id": "yW_k8TttsDHV",
    "outputId": "e4814dd4-021f-4217-f4d9-748aca687211"
   },
   "outputs": [],
   "source": [
    "from thinkdsp import read_wave\n",
    "\n",
    "read_wave('E:\\wav\\code_tos-redalert.wav').make_audio()"
   ]
  },
  {
   "cell_type": "markdown",
   "metadata": {
    "id": "ztlj7W3AstDz"
   },
   "source": [
    "Упражнение 3"
   ]
  },
  {
   "cell_type": "code",
   "execution_count": null,
   "metadata": {
    "colab": {
     "base_uri": "https://localhost:8080/",
     "height": 74
    },
    "id": "q1nNiKoHsu1P",
    "outputId": "83f8e2b1-6165-43f5-94d6-6b6217f090a9"
   },
   "outputs": [],
   "source": [
    "signal = SawtoothChirp(start=2500, end=3000)\n",
    "wave = signal.make_wave(duration=1, framerate=20000)\n",
    "wave.make_audio()"
   ]
  },
  {
   "cell_type": "code",
   "execution_count": null,
   "metadata": {
    "colab": {
     "base_uri": "https://localhost:8080/",
     "height": 297
    },
    "id": "JNIISY7Es2F2",
    "outputId": "37a1a337-a275-49d4-a05b-37320140033b"
   },
   "outputs": [],
   "source": [
    "wave.make_spectrum().plot()\n",
    "decorate(xlabel='Frequency (Hz)')"
   ]
  },
  {
   "cell_type": "markdown",
   "metadata": {
    "id": "pRIpm675tEuA"
   },
   "source": [
    "Упражнение 4"
   ]
  },
  {
   "cell_type": "code",
   "execution_count": null,
   "metadata": {
    "id": "KctUaEXatGrk"
   },
   "outputs": [],
   "source": []
  },
  {
   "cell_type": "code",
   "execution_count": null,
   "metadata": {
    "colab": {
     "base_uri": "https://localhost:8080/",
     "height": 74
    },
    "id": "m5GqgOTzuURh",
    "outputId": "6c2349af-1e26-4eb3-bec0-f8e24fb76583"
   },
   "outputs": [],
   "source": [
    "wave = read_wave('E:\\wav\\code_72475__rockwehrmann__glissup02.wav')\n",
    "wave.make_audio()"
   ]
  },
  {
   "cell_type": "code",
   "execution_count": null,
   "metadata": {
    "colab": {
     "base_uri": "https://localhost:8080/",
     "height": 297
    },
    "id": "Frn7uSXmudMd",
    "outputId": "8fc78413-12dc-420d-9edb-4b59da589baa"
   },
   "outputs": [],
   "source": [
    "wave.make_spectrogram(512).plot(high=5000)\n",
    "decorate(xlabel='Time (sec)', ylabel='Frequency (Hz)')"
   ]
  },
  {
   "cell_type": "markdown",
   "metadata": {
    "id": "AuYhoCtluljt"
   },
   "source": [
    "Упражнение 5"
   ]
  },
  {
   "cell_type": "code",
   "execution_count": null,
   "metadata": {
    "id": "3RjBP-fvuqhl"
   },
   "outputs": [],
   "source": [
    "class TromboneGliss(Chirp):\n",
    "  def evaluate(self, ts):\n",
    "        l1, l2 = 1.0 / self.start, 1.0 / self.end\n",
    "        lengths = np.linspace(l1, l2, len(ts))\n",
    "        freqs = 1 / lengths\n",
    "\n",
    "        dts = np.diff(ts, prepend=0)\n",
    "        dphis = PI2 * freqs * dts\n",
    "        phases = np.cumsum(dphis)\n",
    "        ys = self.amp * np.cos(phases)\n",
    "        return ys"
   ]
  },
  {
   "cell_type": "markdown",
   "metadata": {
    "id": "RXYHI0Yuu8aa"
   },
   "source": [
    "1 часть"
   ]
  },
  {
   "cell_type": "code",
   "execution_count": null,
   "metadata": {
    "colab": {
     "base_uri": "https://localhost:8080/",
     "height": 74
    },
    "id": "l4Q49bsOuyMQ",
    "outputId": "50fb53a5-d220-4512-f05b-7d5cb4b4befe"
   },
   "outputs": [],
   "source": [
    "low = 256\n",
    "high = 356\n",
    "signal = TromboneGliss(high, low)\n",
    "wave1 = signal.make_wave(duration=1)\n",
    "wave1.apodize()\n",
    "wave1.make_audio()"
   ]
  },
  {
   "cell_type": "markdown",
   "metadata": {
    "id": "FGx9nKsjvAoc"
   },
   "source": [
    "2 часть"
   ]
  },
  {
   "cell_type": "code",
   "execution_count": null,
   "metadata": {
    "colab": {
     "base_uri": "https://localhost:8080/",
     "height": 74
    },
    "id": "B-X0IAMkvIa6",
    "outputId": "5945c3c0-6499-4a8b-f76b-04154796cab8"
   },
   "outputs": [],
   "source": [
    "signal = TromboneGliss(low, high)\n",
    "wave2 = signal.make_wave(duration=1)\n",
    "wave2.apodize()\n",
    "wave2.make_audio()"
   ]
  },
  {
   "cell_type": "markdown",
   "metadata": {
    "id": "NxVybWxrvNIt"
   },
   "source": [
    "Соединим их вместе"
   ]
  },
  {
   "cell_type": "code",
   "execution_count": null,
   "metadata": {
    "colab": {
     "base_uri": "https://localhost:8080/",
     "height": 74
    },
    "id": "P1xcXb4qvPVk",
    "outputId": "80ebe1eb-7d9e-4496-da6f-6f8225fa1604"
   },
   "outputs": [],
   "source": [
    "wave = wave1 | wave2\n",
    "wave.make_audio()"
   ]
  },
  {
   "cell_type": "code",
   "execution_count": null,
   "metadata": {
    "colab": {
     "base_uri": "https://localhost:8080/",
     "height": 297
    },
    "id": "HX2ELqBkvY_B",
    "outputId": "6d949070-5f01-4164-f3ab-2f30ba918a6f"
   },
   "outputs": [],
   "source": [
    "sp = wave.make_spectrogram(1024)\n",
    "sp.plot(high=1000)\n",
    "decorate(xlabel='Time (sec)', ylabel='Frequency (Hz)')"
   ]
  },
  {
   "cell_type": "markdown",
   "metadata": {
    "id": "ivwy-ZIbvdYi"
   },
   "source": [
    "Упражнение 6"
   ]
  },
  {
   "cell_type": "code",
   "execution_count": null,
   "metadata": {
    "id": "LEAzqga1eaU7",
    "outputId": "90807f6f-444c-4b0e-bf33-95c9b75ef948"
   },
   "outputs": [],
   "source": [
    "wave = read_wave('E:\\wav\\code_voice.wav')\n",
    "wave.make_audio()"
   ]
  },
  {
   "cell_type": "code",
   "execution_count": null,
   "metadata": {
    "colab": {
     "base_uri": "https://localhost:8080/"
    },
    "id": "wpVnkX-QvrNp",
    "outputId": "8eefc8ff-095d-4b0b-fce7-08463d264cf7"
   },
   "outputs": [],
   "source": [
    "wave.make_spectrogram(1024).plot(high=1000)\n",
    "decorate(xlabel='Time (sec)', ylabel='Frequency (Hz)')"
   ]
  },
  {
   "cell_type": "markdown",
   "metadata": {
    "id": "tIOyqu2lzYGC"
   },
   "source": [
    "Полоса внизу, вероятно, является фоновым шумом. Пики на спектрограмме называются формантами."
   ]
  },
  {
   "cell_type": "code",
   "execution_count": null,
   "metadata": {
    "colab": {
     "base_uri": "https://localhost:8080/",
     "height": 265
    },
    "id": "AFqddrI_zacw",
    "outputId": "0eda2af0-8b48-4aa7-cc7a-2c7ace0495c6"
   },
   "outputs": [],
   "source": [
    "high = 1000\n",
    "\n",
    "segment = wave.segment(start=1, duration=0.25)\n",
    "segment.make_spectrum().plot(high=high)"
   ]
  },
  {
   "cell_type": "markdown",
   "metadata": {
    "id": "zJSZhtGwziZ7"
   },
   "source": [
    "Основная частота около 100 Гц. Следующие самые высокие пики находятся на частотах 200 Гц и 700 Гц"
   ]
  },
  {
   "cell_type": "code",
   "execution_count": null,
   "metadata": {
    "colab": {
     "base_uri": "https://localhost:8080/",
     "height": 297
    },
    "id": "6o-leEno0ex7",
    "outputId": "ce78c01c-1dff-4b17-8799-332e8ca4006d"
   },
   "outputs": [],
   "source": [
    "segment = wave.segment(start=2.2, duration=0.25)\n",
    "segment.make_spectrum().plot(high=high)\n",
    "decorate(xlabel='Frequency (Hz)')"
   ]
  },
  {
   "cell_type": "code",
   "execution_count": null,
   "metadata": {
    "colab": {
     "base_uri": "https://localhost:8080/",
     "height": 297
    },
    "id": "zONSL0nM0jgo",
    "outputId": "fbe79359-2503-4321-8d90-adbb5667c960"
   },
   "outputs": [],
   "source": [
    "segment = wave.segment(start=3.5, duration=0.25)\n",
    "segment.make_spectrum().plot(high=high)\n",
    "decorate(xlabel='Frequency (Hz)')"
   ]
  },
  {
   "cell_type": "code",
   "execution_count": null,
   "metadata": {
    "colab": {
     "base_uri": "https://localhost:8080/",
     "height": 297
    },
    "id": "0nA6dQNi0zaX",
    "outputId": "f2c9e378-8da0-4961-9801-f3e6fb555838"
   },
   "outputs": [],
   "source": [
    "segment = wave.segment(start=5.1, duration=0.25)\n",
    "segment.make_spectrum().plot(high=high)\n",
    "decorate(xlabel='Frequency (Hz)')"
   ]
  },
  {
   "cell_type": "code",
   "execution_count": null,
   "metadata": {
    "colab": {
     "base_uri": "https://localhost:8080/",
     "height": 297
    },
    "id": "sdT60-u_1DN1",
    "outputId": "bf6cf123-6290-4545-87d1-807ca83a9a00"
   },
   "outputs": [],
   "source": [
    "segment = wave.segment(start=6.5, duration=0.25)\n",
    "segment.make_spectrum().plot(high=high)\n",
    "decorate(xlabel='Frequency (Hz)')"
   ]
  },
  {
   "cell_type": "markdown",
   "metadata": {
    "id": "FgNA6ooJe2gL"
   },
   "source": [
    "# Лабораторная работа 4. Шум\n"
   ]
  },
  {
   "cell_type": "code",
   "execution_count": null,
   "metadata": {
    "id": "HJGTj7x_2X0w"
   },
   "outputs": [],
   "source": [
    "import os\n",
    "\n",
    "import numpy as np\n",
    "import matplotlib.pyplot as plt\n",
    "\n",
    "from thinkdsp import decorate"
   ]
  },
  {
   "cell_type": "code",
   "execution_count": null,
   "metadata": {
    "colab": {
     "base_uri": "https://localhost:8080/",
     "height": 74
    },
    "id": "f4x8D5NE3qAS",
    "outputId": "ac2a5b22-98f2-49b8-93cc-fa9c798a4577"
   },
   "outputs": [],
   "source": [
    "from thinkdsp import read_wave\n",
    "\n",
    "wave = read_wave('E:\\wav\\code_spoonbender_wind-through-trees-3b.wav')\n",
    "wave.make_audio()"
   ]
  },
  {
   "cell_type": "code",
   "execution_count": null,
   "metadata": {
    "colab": {
     "base_uri": "https://localhost:8080/",
     "height": 74
    },
    "id": "igwLQeKz32iI",
    "outputId": "fff682d6-9900-47ba-b1da-d3adae376315"
   },
   "outputs": [],
   "source": [
    "segment = wave.segment(start=1.5, duration=1.0)\n",
    "segment.make_audio()"
   ]
  },
  {
   "cell_type": "code",
   "execution_count": null,
   "metadata": {
    "colab": {
     "base_uri": "https://localhost:8080/",
     "height": 297
    },
    "id": "Iyde5Tcn37ZT",
    "outputId": "9e271173-0707-4ad1-d186-2c07eb523bb3"
   },
   "outputs": [],
   "source": [
    "spectrum = segment.make_spectrum()\n",
    "spectrum.plot_power()\n",
    "decorate(xlabel='Frequency (Hz)',\n",
    "         ylabel='Power')"
   ]
  },
  {
   "cell_type": "code",
   "execution_count": null,
   "metadata": {
    "colab": {
     "base_uri": "https://localhost:8080/",
     "height": 297
    },
    "id": "GhClPmxF3_k_",
    "outputId": "96ecebe0-40df-4fde-a37e-39fe82213fe3"
   },
   "outputs": [],
   "source": [
    "spectrum.plot_power()\n",
    "\n",
    "loglog = dict(xscale='log', yscale='log')\n",
    "decorate(xlabel='Frequency (Hz)',\n",
    "         ylabel='Power',\n",
    "         **loglog)"
   ]
  },
  {
   "cell_type": "code",
   "execution_count": null,
   "metadata": {
    "colab": {
     "base_uri": "https://localhost:8080/",
     "height": 74
    },
    "id": "HoexhVNk4DdK",
    "outputId": "410987b4-e7b7-4753-9440-fbfb0a053088"
   },
   "outputs": [],
   "source": [
    "segment2 = wave.segment(start=2.5, duration=1.0)\n",
    "segment2.make_audio()"
   ]
  },
  {
   "cell_type": "code",
   "execution_count": null,
   "metadata": {
    "colab": {
     "base_uri": "https://localhost:8080/",
     "height": 297
    },
    "id": "y9-UUMwh4GwI",
    "outputId": "37efdd4f-942e-4461-8139-e87a284da65d"
   },
   "outputs": [],
   "source": [
    "spectrum2 = segment2.make_spectrum()\n",
    "\n",
    "spectrum.plot_power(alpha=0.5)\n",
    "spectrum2.plot_power(alpha=0.5)\n",
    "decorate(xlabel='Frequency (Hz)',\n",
    "         ylabel='Power')"
   ]
  },
  {
   "cell_type": "code",
   "execution_count": null,
   "metadata": {
    "colab": {
     "base_uri": "https://localhost:8080/",
     "height": 297
    },
    "id": "_pIPtwWm4LAn",
    "outputId": "ef6c1747-e627-4cff-ec3c-865c697198c6"
   },
   "outputs": [],
   "source": [
    "spectrum.plot_power(alpha=0.5)\n",
    "spectrum2.plot_power(alpha=0.5)\n",
    "decorate(xlabel='Frequency (Hz)',\n",
    "         ylabel='Power',\n",
    "         **loglog)"
   ]
  },
  {
   "cell_type": "code",
   "execution_count": null,
   "metadata": {
    "colab": {
     "base_uri": "https://localhost:8080/",
     "height": 297
    },
    "id": "tbQvIa-l4Ui5",
    "outputId": "717bffac-f413-4adf-8468-ab8bfde70092"
   },
   "outputs": [],
   "source": [
    "segment.make_spectrogram(512).plot(high=5000)\n",
    "decorate(xlabel='Time(s)', ylabel='Frequency (Hz)')"
   ]
  },
  {
   "cell_type": "markdown",
   "metadata": {
    "id": "p_Nd131E4xxy"
   },
   "source": [
    "Реализуем метод Бартлетта и используем его, чтобы оценить спектр мощности для шумовой волны"
   ]
  },
  {
   "cell_type": "code",
   "execution_count": null,
   "metadata": {
    "id": "epNf-X8S43H8"
   },
   "outputs": [],
   "source": [
    "from thinkdsp import Spectrum\n",
    "\n",
    "def bartlett_method(wave, seg_length=512, win_flag=True):\n",
    "\n",
    "    spectro = wave.make_spectrogram(seg_length, win_flag)\n",
    "    spectrums = spectro.spec_map.values()\n",
    "\n",
    "    psds = [spectrum.power for spectrum in spectrums]\n",
    "\n",
    "    hs = np.sqrt(sum(psds) / len(psds))\n",
    "    fs = next(iter(spectrums)).fs\n",
    "\n",
    "    spectrum = Spectrum(hs, fs, wave.framerate)\n",
    "    return spectrum"
   ]
  },
  {
   "cell_type": "code",
   "execution_count": null,
   "metadata": {
    "colab": {
     "base_uri": "https://localhost:8080/",
     "height": 297
    },
    "id": "4MaDmn4e5AHd",
    "outputId": "010dd9b8-cdb9-426a-9c48-80668b21eeab"
   },
   "outputs": [],
   "source": [
    "psd = bartlett_method(segment)\n",
    "psd2 = bartlett_method(segment2)\n",
    "\n",
    "psd.plot_power()\n",
    "psd2.plot_power()\n",
    "\n",
    "decorate(xlabel='Frequency (Hz)',\n",
    "         ylabel='Power',\n",
    "         **loglog)"
   ]
  },
  {
   "cell_type": "markdown",
   "metadata": {
    "id": "0ASF5IGT5XsM"
   },
   "source": [
    "Упражнение 2"
   ]
  },
  {
   "cell_type": "code",
   "execution_count": null,
   "metadata": {
    "colab": {
     "base_uri": "https://localhost:8080/",
     "height": 424
    },
    "id": "Qz4dO6xN61T6",
    "outputId": "a703abfb-a5ad-4e1d-ab45-79fe7b9547d5"
   },
   "outputs": [],
   "source": [
    "import pandas as pd\n",
    "\n",
    "df = pd.read_csv('E:\\wav\\BTC_USD_2013-10-01_2023-04-14-CoinDesk.csv',\n",
    "                 parse_dates=[0])\n",
    "df"
   ]
  },
  {
   "cell_type": "code",
   "execution_count": null,
   "metadata": {
    "id": "IdGJ1LNZ65Ia"
   },
   "outputs": [],
   "source": [
    "ys = df['Closing Price (USD)']\n",
    "ts = df.index"
   ]
  },
  {
   "cell_type": "code",
   "execution_count": null,
   "metadata": {
    "colab": {
     "base_uri": "https://localhost:8080/",
     "height": 297
    },
    "id": "E3Jp29RK69s1",
    "outputId": "9297f01e-6a1e-431c-b4c0-f7b0eda99cb0"
   },
   "outputs": [],
   "source": [
    "from thinkdsp import Wave\n",
    "\n",
    "wave = Wave(ys, ts, framerate=1)\n",
    "wave.plot()\n",
    "decorate(xlabel='Time (days)')"
   ]
  },
  {
   "cell_type": "code",
   "execution_count": null,
   "metadata": {
    "colab": {
     "base_uri": "https://localhost:8080/",
     "height": 297
    },
    "id": "FY7QiwVo7CI2",
    "outputId": "17050f4e-bdb8-4513-b77f-d302f8fee0f7"
   },
   "outputs": [],
   "source": [
    "spectrum = wave.make_spectrum()\n",
    "spectrum.plot_power()\n",
    "decorate(xlabel='Frequency (1/days)',\n",
    "         ylabel='Power',\n",
    "         **loglog)"
   ]
  },
  {
   "cell_type": "code",
   "execution_count": null,
   "metadata": {
    "colab": {
     "base_uri": "https://localhost:8080/"
    },
    "id": "j3H767Q37FW-",
    "outputId": "e9b62480-5730-4548-b01e-7452235ff7b5"
   },
   "outputs": [],
   "source": [
    "spectrum.estimate_slope()[0]"
   ]
  },
  {
   "cell_type": "markdown",
   "metadata": {
    "id": "Baljzh5T7MQ4"
   },
   "source": [
    "Красный шум должен иметь наклон -2. Наклон этой PSD близок к 1,7, поэтому трудно сказать, следует ли считать это красным шумом или же это разновидность розового шума\n"
   ]
  },
  {
   "cell_type": "markdown",
   "metadata": {
    "id": "mz4wg-hP7bfV"
   },
   "source": [
    "Упражнение 3"
   ]
  },
  {
   "cell_type": "code",
   "execution_count": null,
   "metadata": {
    "id": "M7_90R6R7xXl"
   },
   "outputs": [],
   "source": [
    "from thinkdsp import Noise\n",
    "\n",
    "class UncorrelatedPoissonNoise(Noise):\n",
    "\n",
    "    def evaluate(self, ts):\n",
    "\n",
    "        ys = np.random.poisson(self.amp, len(ts))\n",
    "        return ys"
   ]
  },
  {
   "cell_type": "code",
   "execution_count": null,
   "metadata": {
    "colab": {
     "base_uri": "https://localhost:8080/",
     "height": 74
    },
    "id": "dkOnLpan8JHX",
    "outputId": "81795080-297e-4e08-d754-23c6385aabe3"
   },
   "outputs": [],
   "source": [
    "amp = 0.001\n",
    "framerate = 10000\n",
    "duration = 1\n",
    "\n",
    "signal = UncorrelatedPoissonNoise(amp=amp)\n",
    "wave = signal.make_wave(duration=duration, framerate=framerate)\n",
    "wave.make_audio()"
   ]
  },
  {
   "cell_type": "code",
   "execution_count": null,
   "metadata": {
    "colab": {
     "base_uri": "https://localhost:8080/"
    },
    "id": "I-JpUWbk8NBy",
    "outputId": "57bf90d5-59ff-4307-8505-a1dcabdfe717"
   },
   "outputs": [],
   "source": [
    "expected = amp * framerate * duration\n",
    "actual = sum(wave.ys)\n",
    "print(expected, actual)"
   ]
  },
  {
   "cell_type": "code",
   "execution_count": null,
   "metadata": {
    "colab": {
     "base_uri": "https://localhost:8080/",
     "height": 265
    },
    "id": "-fFdUdZ08Pej",
    "outputId": "c02505a9-e801-4368-ca67-029f4de0a324"
   },
   "outputs": [],
   "source": [
    "wave.plot()"
   ]
  },
  {
   "cell_type": "code",
   "execution_count": null,
   "metadata": {
    "colab": {
     "base_uri": "https://localhost:8080/",
     "height": 297
    },
    "id": "RG9XVOdZ8SI1",
    "outputId": "1a287a13-6559-49dc-be25-e15c61e4d122"
   },
   "outputs": [],
   "source": [
    "spectrum = wave.make_spectrum()\n",
    "spectrum.plot_power()\n",
    "decorate(xlabel='Frequency (Hz)',\n",
    "         ylabel='Power',\n",
    "         **loglog)"
   ]
  },
  {
   "cell_type": "code",
   "execution_count": null,
   "metadata": {
    "colab": {
     "base_uri": "https://localhost:8080/"
    },
    "id": "FCw8lL2G8ohS",
    "outputId": "d6ee74dd-d842-4d34-d2ca-14ff613cea3e"
   },
   "outputs": [],
   "source": [
    "spectrum.estimate_slope().slope"
   ]
  },
  {
   "cell_type": "markdown",
   "metadata": {
    "id": "u-QAO2qn8sqW"
   },
   "source": [
    "Похоже на белый шум, а наклон близок к 0."
   ]
  },
  {
   "cell_type": "code",
   "execution_count": null,
   "metadata": {
    "colab": {
     "base_uri": "https://localhost:8080/",
     "height": 74
    },
    "id": "FYgVD8ao8uNg",
    "outputId": "75d58794-da28-4914-be8d-efc29ead40a8"
   },
   "outputs": [],
   "source": [
    "amp = 1\n",
    "framerate = 10000\n",
    "duration = 1\n",
    "\n",
    "signal = UncorrelatedPoissonNoise(amp=amp)\n",
    "wave = signal.make_wave(duration=duration, framerate=framerate)\n",
    "wave.make_audio()"
   ]
  },
  {
   "cell_type": "code",
   "execution_count": null,
   "metadata": {
    "colab": {
     "base_uri": "https://localhost:8080/",
     "height": 265
    },
    "id": "LOgzW9J287AB",
    "outputId": "c8eb32d1-a913-488c-c774-ffdb0f471017"
   },
   "outputs": [],
   "source": [
    "wave.plot()"
   ]
  },
  {
   "cell_type": "code",
   "execution_count": null,
   "metadata": {
    "id": "6kHFV0io8_c0"
   },
   "outputs": [],
   "source": [
    "import matplotlib.pyplot as plt\n",
    "\n",
    "def normal_prob_plot(sample, fit_color='0.8', **options):\n",
    "\n",
    "    n = len(sample)\n",
    "    xs = np.random.normal(0, 1, n)\n",
    "    xs.sort()\n",
    "\n",
    "    ys = np.sort(sample)\n",
    "\n",
    "    mean, std = np.mean(sample), np.std(sample)\n",
    "    fit_ys = mean + std * xs\n",
    "    plt.plot(xs, fit_ys, color='gray', alpha=0.5, label='model')\n",
    "\n",
    "    plt.plot(xs, ys, **options)"
   ]
  },
  {
   "cell_type": "code",
   "execution_count": null,
   "metadata": {
    "colab": {
     "base_uri": "https://localhost:8080/",
     "height": 297
    },
    "id": "lehn3d7W9DVI",
    "outputId": "3a9dea3e-4d7a-49d1-8cd2-6fc24e148ed1"
   },
   "outputs": [],
   "source": [
    "spectrum = wave.make_spectrum()\n",
    "spectrum.hs[0] = 0\n",
    "\n",
    "normal_prob_plot(spectrum.real, label='real')\n",
    "decorate(xlabel='Normal sample',\n",
    "        ylabel='Power')"
   ]
  },
  {
   "cell_type": "code",
   "execution_count": null,
   "metadata": {
    "colab": {
     "base_uri": "https://localhost:8080/",
     "height": 297
    },
    "id": "M60-rd8o9Lex",
    "outputId": "f5497be3-f06b-4062-dcfa-b89735631da1"
   },
   "outputs": [],
   "source": [
    "normal_prob_plot(spectrum.imag, label='imag', color='C2')\n",
    "decorate(xlabel='Normal sample')"
   ]
  },
  {
   "cell_type": "markdown",
   "metadata": {
    "id": "3XIXokGI9fTO"
   },
   "source": [
    "4 упражнение"
   ]
  },
  {
   "cell_type": "markdown",
   "metadata": {
    "id": "WriNrvg09row"
   },
   "source": [
    "Основная идея этого алгоритма состоит в том, чтобы сложить несколько последовательностей случайных чисел, которые обновляются с разной частотой дискретизации. Первый источник должен обновляться на каждом временном шаге; второй источник через каждый второй временной шаг, третий источник через каждый четвертый шаг и так далее."
   ]
  },
  {
   "cell_type": "code",
   "execution_count": null,
   "metadata": {
    "colab": {
     "base_uri": "https://localhost:8080/"
    },
    "id": "ZC6UfU509wFb",
    "outputId": "88511079-f1d9-4e57-c738-c4bee1e40ed9"
   },
   "outputs": [],
   "source": [
    "nrows = 100\n",
    "ncols = 5\n",
    "\n",
    "array = np.empty((nrows, ncols))\n",
    "array.fill(np.nan)\n",
    "array[0, :] = np.random.random(ncols)\n",
    "array[:, 0] = np.random.random(nrows)\n",
    "array[0:6]"
   ]
  },
  {
   "cell_type": "markdown",
   "metadata": {
    "id": "4Kt6Tcdn93rt"
   },
   "source": [
    "Следующим шагом является выбор мест, где случайные источники меняются."
   ]
  },
  {
   "cell_type": "code",
   "execution_count": null,
   "metadata": {
    "colab": {
     "base_uri": "https://localhost:8080/"
    },
    "id": "kehw4deh95Gr",
    "outputId": "20b6e73b-06fe-4b7f-8d7e-6e91835f81a8"
   },
   "outputs": [],
   "source": [
    "p = 0.5\n",
    "n = nrows\n",
    "cols = np.random.geometric(p, n)\n",
    "cols[cols >= ncols] = 0\n",
    "cols"
   ]
  },
  {
   "cell_type": "code",
   "execution_count": null,
   "metadata": {
    "colab": {
     "base_uri": "https://localhost:8080/"
    },
    "id": "sX5ewzAl-0C7",
    "outputId": "06fa63af-17fe-4bf0-ac8d-f76fabed7a20"
   },
   "outputs": [],
   "source": [
    "rows = np.random.randint(nrows, size=n)\n",
    "rows"
   ]
  },
  {
   "cell_type": "code",
   "execution_count": null,
   "metadata": {
    "colab": {
     "base_uri": "https://localhost:8080/"
    },
    "id": "DPzdLKB8-3Uk",
    "outputId": "f71fa61c-0ff9-4887-92f3-2460e5a6f65c"
   },
   "outputs": [],
   "source": [
    "array[rows, cols] = np.random.random(n)\n",
    "array[0:6]"
   ]
  },
  {
   "cell_type": "code",
   "execution_count": null,
   "metadata": {
    "colab": {
     "base_uri": "https://localhost:8080/",
     "height": 206
    },
    "id": "5dKGfxze_AS4",
    "outputId": "157f1878-6ef5-4b0a-ca2a-7327a08af4dd"
   },
   "outputs": [],
   "source": [
    "df = pd.DataFrame(array)\n",
    "df.head()"
   ]
  },
  {
   "cell_type": "code",
   "execution_count": null,
   "metadata": {
    "colab": {
     "base_uri": "https://localhost:8080/",
     "height": 206
    },
    "id": "MjS698q4_GYb",
    "outputId": "4626ae45-6ed7-4ec9-fa75-2c6fc1a97216"
   },
   "outputs": [],
   "source": [
    "filled = df.fillna(method='ffill', axis=0)\n",
    "filled.head()"
   ]
  },
  {
   "cell_type": "code",
   "execution_count": null,
   "metadata": {
    "colab": {
     "base_uri": "https://localhost:8080/"
    },
    "id": "1GhCz2Mh_H9-",
    "outputId": "85f3a199-bb5f-43b2-9f1a-9623565debbf"
   },
   "outputs": [],
   "source": [
    "total = filled.sum(axis=1)\n",
    "total.head()"
   ]
  },
  {
   "cell_type": "code",
   "execution_count": null,
   "metadata": {
    "colab": {
     "base_uri": "https://localhost:8080/",
     "height": 265
    },
    "id": "gXUXHR25_Ng1",
    "outputId": "faf3e59a-6ab5-467f-9be3-3effe4e2e817"
   },
   "outputs": [],
   "source": [
    "wave = Wave(total.values)\n",
    "wave.plot()"
   ]
  },
  {
   "cell_type": "markdown",
   "metadata": {
    "id": "n-vIIaseBJ_2"
   },
   "source": [
    "Вот весь процесс в функции:\n"
   ]
  },
  {
   "cell_type": "code",
   "execution_count": null,
   "metadata": {
    "id": "yissk6dFBNUd"
   },
   "outputs": [],
   "source": [
    "def voss(nrows, ncols=16):\n",
    "\n",
    "    array = np.empty((nrows, ncols))\n",
    "    array.fill(np.nan)\n",
    "    array[0, :] = np.random.random(ncols)\n",
    "    array[:, 0] = np.random.random(nrows)\n",
    "\n",
    "    n = nrows\n",
    "    cols = np.random.geometric(0.5, n)\n",
    "    cols[cols >= ncols] = 0\n",
    "    rows = np.random.randint(nrows, size=n)\n",
    "    array[rows, cols] = np.random.random(n)\n",
    "\n",
    "    df = pd.DataFrame(array)\n",
    "    df.fillna(method='ffill', axis=0, inplace=True)\n",
    "    total = df.sum(axis=1)\n",
    "\n",
    "    return total.values"
   ]
  },
  {
   "cell_type": "code",
   "execution_count": null,
   "metadata": {
    "colab": {
     "base_uri": "https://localhost:8080/"
    },
    "id": "98t0VkXyBWlS",
    "outputId": "64b445c5-6407-4952-eec3-d90e61b017fa"
   },
   "outputs": [],
   "source": [
    "ys = voss(11040)\n",
    "ys"
   ]
  },
  {
   "cell_type": "code",
   "execution_count": null,
   "metadata": {
    "id": "3ZXAPZDKBbeo"
   },
   "outputs": [],
   "source": [
    "wave = Wave(ys)\n",
    "wave.unbias()\n",
    "wave.normalize()"
   ]
  },
  {
   "cell_type": "code",
   "execution_count": null,
   "metadata": {
    "colab": {
     "base_uri": "https://localhost:8080/",
     "height": 265
    },
    "id": "hX0AVUTHBdhk",
    "outputId": "3d6ef777-4149-441d-d990-87526c13ff1c"
   },
   "outputs": [],
   "source": [
    "wave.plot()"
   ]
  },
  {
   "cell_type": "markdown",
   "metadata": {
    "id": "Ayyi2D3OBk3o"
   },
   "source": [
    "Как и ожидалось, он больше похож на случайное блуждание, чем белый шум, но выглядит более случайным, чем красный шум."
   ]
  },
  {
   "cell_type": "code",
   "execution_count": null,
   "metadata": {
    "colab": {
     "base_uri": "https://localhost:8080/",
     "height": 74
    },
    "id": "R9hqOdxmByOJ",
    "outputId": "a9a43627-a3b1-4afe-914e-de0f05fbaa93"
   },
   "outputs": [],
   "source": [
    "wave.make_audio()"
   ]
  },
  {
   "cell_type": "code",
   "execution_count": null,
   "metadata": {
    "colab": {
     "base_uri": "https://localhost:8080/",
     "height": 297
    },
    "id": "PuPnHBLYB6iT",
    "outputId": "197b7899-b460-49aa-ce30-494e2e5a343c"
   },
   "outputs": [],
   "source": [
    "spectrum = wave.make_spectrum()\n",
    "spectrum.hs[0] = 0\n",
    "spectrum.plot_power()\n",
    "decorate(xlabel='Frequency (Hz)',\n",
    "         ylabel='Power',\n",
    "         **loglog)"
   ]
  },
  {
   "cell_type": "code",
   "execution_count": null,
   "metadata": {
    "colab": {
     "base_uri": "https://localhost:8080/"
    },
    "id": "TOfmRF1JB-1Y",
    "outputId": "7ec35387-c8d3-406c-92a5-5e13dabbd9cc"
   },
   "outputs": [],
   "source": [
    "spectrum.estimate_slope().slope"
   ]
  },
  {
   "cell_type": "code",
   "execution_count": null,
   "metadata": {
    "colab": {
     "base_uri": "https://localhost:8080/"
    },
    "id": "7JC43h_nCHca",
    "outputId": "2a361cab-b595-4eca-8c22-0d528215f69b"
   },
   "outputs": [],
   "source": [
    "seg_length = 64 * 1024\n",
    "iters = 100\n",
    "wave = Wave(voss(seg_length * iters))\n",
    "len(wave)"
   ]
  },
  {
   "cell_type": "code",
   "execution_count": null,
   "metadata": {
    "colab": {
     "base_uri": "https://localhost:8080/"
    },
    "id": "7dz58nzFCM9t",
    "outputId": "edefa759-6054-49e7-8cd7-708eff9738ba"
   },
   "outputs": [],
   "source": [
    "spectrum = bartlett_method(wave, seg_length=seg_length, win_flag=False)\n",
    "spectrum.hs[0] = 0\n",
    "len(spectrum)"
   ]
  },
  {
   "cell_type": "code",
   "execution_count": null,
   "metadata": {
    "colab": {
     "base_uri": "https://localhost:8080/",
     "height": 297
    },
    "id": "dPvwt6DZCQ4V",
    "outputId": "2ed71f49-fb32-4eaf-8c83-31d1d2ce8786"
   },
   "outputs": [],
   "source": [
    "spectrum.plot_power()\n",
    "decorate(xlabel='Frequency (Hz)',\n",
    "         ylabel='Power',\n",
    "         **loglog)"
   ]
  },
  {
   "cell_type": "code",
   "execution_count": null,
   "metadata": {
    "colab": {
     "base_uri": "https://localhost:8080/"
    },
    "id": "xabgm0AwChN0",
    "outputId": "dbca3589-cce7-437f-8848-5d0e9f5d62c3"
   },
   "outputs": [],
   "source": [
    "spectrum.estimate_slope().slope"
   ]
  },
  {
   "cell_type": "markdown",
   "metadata": {
    "id": "53e0YrZdClr3"
   },
   "source": [
    "наклон близок к -1."
   ]
  },
  {
   "cell_type": "markdown",
   "metadata": {
    "id": "fr6D0pIsfkxF"
   },
   "source": [
    "# Лабораторная работа 5. Автокорреляция"
   ]
  },
  {
   "cell_type": "code",
   "execution_count": null,
   "metadata": {
    "id": "h-FvcrOtG-AD"
   },
   "outputs": [],
   "source": [
    "import os\n",
    "\n",
    "import numpy as np\n",
    "import matplotlib.pyplot as plt\n",
    "\n",
    "from thinkdsp import decorate"
   ]
  },
  {
   "cell_type": "code",
   "execution_count": null,
   "metadata": {
    "id": "XlNioLGgHgG0"
   },
   "outputs": [],
   "source": [
    "import pandas as pd\n",
    "\n",
    "df = pd.read_csv('E:\\wav\\BTC_USD_2013-10-01_2023-04-14-CoinDesk.csv',\n",
    "                 parse_dates=[0])\n",
    "\n",
    "ys = df['Closing Price (USD)']\n",
    "ts = df.index"
   ]
  },
  {
   "cell_type": "code",
   "execution_count": null,
   "metadata": {
    "colab": {
     "base_uri": "https://localhost:8080/",
     "height": 297
    },
    "id": "BeCwaYa-Hjz1",
    "outputId": "f5215168-a4ad-4113-d340-1e1f2db2dd00"
   },
   "outputs": [],
   "source": [
    "from thinkdsp import Wave\n",
    "\n",
    "wave = Wave(ys, ts, framerate=1)\n",
    "wave.plot()\n",
    "decorate(xlabel='Time (days)',\n",
    "         ylabel='Price of BitCoin ($)')"
   ]
  },
  {
   "cell_type": "markdown",
   "metadata": {
    "id": "nGE3KbQtHtpi"
   },
   "source": [
    "Вот функция автокорреляции, использующая статистическое определение, которое устраняет смещения, нормализует и стандартизирует; то есть он сдвигает среднее значение к нулю, делит на стандартное отклонение и делит сумму на N."
   ]
  },
  {
   "cell_type": "code",
   "execution_count": null,
   "metadata": {
    "id": "fm5he8BCHxBU"
   },
   "outputs": [],
   "source": [
    "def autocorr(wave):\n",
    "\n",
    "    lags = np.arange(len(wave.ys)//2)\n",
    "    corrs = [serial_corr(wave, lag) for lag in lags]\n",
    "    return lags, corrs"
   ]
  },
  {
   "cell_type": "code",
   "execution_count": null,
   "metadata": {
    "id": "m1M2rlowH0On"
   },
   "outputs": [],
   "source": [
    "def serial_corr(wave, lag=1):\n",
    "\n",
    "    n = len(wave)\n",
    "    y1 = wave.ys[lag:]\n",
    "    y2 = wave.ys[:n-lag]\n",
    "    corr_mat = np.corrcoef(y1, y2)\n",
    "    return corr_mat[0, 1]"
   ]
  },
  {
   "cell_type": "code",
   "execution_count": null,
   "metadata": {
    "colab": {
     "base_uri": "https://localhost:8080/",
     "height": 297
    },
    "id": "MO9oBjMZH6RG",
    "outputId": "58d86a2f-39f9-4103-c106-635cdd21a2b8"
   },
   "outputs": [],
   "source": [
    "lags, corrs = autocorr(wave)\n",
    "plt.plot(lags, corrs)\n",
    "decorate(xlabel='Lag',\n",
    "         ylabel='Correlation')"
   ]
  },
  {
   "cell_type": "code",
   "execution_count": null,
   "metadata": {
    "colab": {
     "base_uri": "https://localhost:8080/",
     "height": 297
    },
    "id": "_mHdf4w1IBjL",
    "outputId": "35e2d42d-7875-4bbb-eb21-0b7237920437"
   },
   "outputs": [],
   "source": [
    "N = len(wave)\n",
    "corrs2 = np.correlate(wave.ys, wave.ys, mode='same')\n",
    "lags = np.arange(-N//2, N//2)\n",
    "plt.plot(lags, corrs2)\n",
    "decorate(xlabel='Lag',\n",
    "         ylabel='Dot product')"
   ]
  },
  {
   "cell_type": "code",
   "execution_count": null,
   "metadata": {
    "colab": {
     "base_uri": "https://localhost:8080/",
     "height": 297
    },
    "id": "xg7ZEXX8ILYe",
    "outputId": "6e304e77-329f-499d-ac99-48e572f0f723"
   },
   "outputs": [],
   "source": [
    "N = len(corrs2)\n",
    "half = corrs2[N//2:]\n",
    "plt.plot(half)\n",
    "decorate(xlabel='Lag',\n",
    "         ylabel='Dot product')"
   ]
  },
  {
   "cell_type": "code",
   "execution_count": null,
   "metadata": {
    "colab": {
     "base_uri": "https://localhost:8080/",
     "height": 297
    },
    "id": "Pj7yeRCdIO10",
    "outputId": "a5ec4ddf-7f27-414b-bb7b-016be1282630"
   },
   "outputs": [],
   "source": [
    "lengths = range(N, N//2, -1)\n",
    "half /= lengths\n",
    "half /= half[0]\n",
    "plt.plot(half)\n",
    "decorate(xlabel='Lag',\n",
    "         ylabel='Dot product')"
   ]
  },
  {
   "cell_type": "code",
   "execution_count": null,
   "metadata": {
    "colab": {
     "base_uri": "https://localhost:8080/",
     "height": 297
    },
    "id": "6FCnHePcIRis",
    "outputId": "d68b579e-7926-490c-ab08-ce899197727a"
   },
   "outputs": [],
   "source": [
    "plt.plot(corrs, label='autocorr')\n",
    "plt.plot(half, label='correlate')\n",
    "decorate(xlabel='Lag', ylabel='Correlation')"
   ]
  },
  {
   "cell_type": "markdown",
   "metadata": {
    "id": "htBVxcnwId6H"
   },
   "source": [
    "Даже после стандартизации результаты выглядят существенно иначе.\n",
    "\n",
    "Для этого набора данных, вероятно, более подходящим является статистическое определение АКФ."
   ]
  },
  {
   "cell_type": "markdown",
   "metadata": {
    "id": "FvMq7gvaIhM2"
   },
   "source": [
    "Упражнение 2"
   ]
  },
  {
   "cell_type": "code",
   "execution_count": null,
   "metadata": {
    "colab": {
     "base_uri": "https://localhost:8080/",
     "height": 74
    },
    "id": "nbCIBDecJSuc",
    "outputId": "d434330b-4d4d-4b1f-cca3-68e31e7ed78b"
   },
   "outputs": [],
   "source": [
    "from thinkdsp import read_wave\n",
    "\n",
    "wave = read_wave('E:\\wav\\code_28_bcjordan_voicedownbew.wav')\n",
    "wave.normalize()\n",
    "wave.make_audio()"
   ]
  },
  {
   "cell_type": "code",
   "execution_count": null,
   "metadata": {
    "colab": {
     "base_uri": "https://localhost:8080/",
     "height": 297
    },
    "id": "CwkFXxFMJWiN",
    "outputId": "f565b5e1-9a64-48fe-9c82-637c71e2f459"
   },
   "outputs": [],
   "source": [
    "wave.make_spectrogram(2048).plot(high=4200)\n",
    "decorate(xlabel='Time (s)',\n",
    "         ylabel='Frequency (Hz)')"
   ]
  },
  {
   "cell_type": "code",
   "execution_count": null,
   "metadata": {
    "id": "pyqMC3qaJbNX"
   },
   "outputs": [],
   "source": [
    "def estimate_fundamental(segment, low=70, high=150):\n",
    "    lags, corrs = autocorr(segment)\n",
    "    lag = np.array(corrs[low:high]).argmax() + low\n",
    "    period = lag / segment.framerate\n",
    "    frequency = 1 / period\n",
    "    return frequency"
   ]
  },
  {
   "cell_type": "code",
   "execution_count": null,
   "metadata": {
    "colab": {
     "base_uri": "https://localhost:8080/"
    },
    "id": "uyeJ2rGsJdOh",
    "outputId": "b1a6d208-c659-43c3-b6dd-a95963763a61"
   },
   "outputs": [],
   "source": [
    "duration = 0.01\n",
    "segment = wave.segment(start=0.2, duration=duration)\n",
    "freq = estimate_fundamental(segment)\n",
    "freq"
   ]
  },
  {
   "cell_type": "code",
   "execution_count": null,
   "metadata": {
    "id": "vvEtWaRyJfsX"
   },
   "outputs": [],
   "source": [
    "step = 0.05\n",
    "starts = np.arange(0.0, 1.4, step)\n",
    "\n",
    "ts = []\n",
    "freqs = []\n",
    "\n",
    "for start in starts:\n",
    "    ts.append(start + step/2)\n",
    "    segment = wave.segment(start=start, duration=duration)\n",
    "    freq = estimate_fundamental(segment)\n",
    "    freqs.append(freq)"
   ]
  },
  {
   "cell_type": "code",
   "execution_count": null,
   "metadata": {
    "colab": {
     "base_uri": "https://localhost:8080/",
     "height": 297
    },
    "id": "rHfiBy8MJj8P",
    "outputId": "6198c005-5ac1-4d39-cfd1-f0119d8684d4"
   },
   "outputs": [],
   "source": [
    "wave.make_spectrogram(2048).plot(high=900)\n",
    "plt.plot(ts, freqs, color='white')\n",
    "decorate(xlabel='Time (s)',\n",
    "                     ylabel='Frequency (Hz)')"
   ]
  },
  {
   "cell_type": "markdown",
   "metadata": {
    "id": "rSA9SOP2f7QT"
   },
   "source": [
    "# Лабораторная работа 6. Дискретное косинусовое преобразование"
   ]
  },
  {
   "cell_type": "code",
   "execution_count": null,
   "metadata": {
    "id": "AXSfbxJ2L2gE"
   },
   "outputs": [],
   "source": [
    "import numpy as np\n",
    "import matplotlib.pyplot as plt\n",
    "import pandas as pd\n",
    "\n",
    "import os"
   ]
  },
  {
   "cell_type": "code",
   "execution_count": null,
   "metadata": {
    "id": "Fp9ibLxaQFTe"
   },
   "outputs": [],
   "source": [
    "from thinkdsp import decorate"
   ]
  },
  {
   "cell_type": "code",
   "execution_count": null,
   "metadata": {
    "colab": {
     "base_uri": "https://localhost:8080/"
    },
    "id": "dPC-QmTaM3yv",
    "outputId": "6f25257e-3d9d-46f2-981e-a9bcdab75e08"
   },
   "outputs": [],
   "source": [
    "from thinkdsp import UncorrelatedGaussianNoise\n",
    "\n",
    "signal = UncorrelatedGaussianNoise()\n",
    "noise = signal.make_wave(duration=1.0, framerate=8192)\n",
    "noise.ys.shape"
   ]
  },
  {
   "cell_type": "code",
   "execution_count": null,
   "metadata": {
    "id": "pvGNZiUZNJVV"
   },
   "outputs": [],
   "source": [
    "from scipy.stats import linregress\n",
    "\n",
    "loglog = dict(xscale='log', yscale='log')\n",
    "\n",
    "def plot_bests(ns, bests):\n",
    "    plt.plot(ns, bests)\n",
    "    decorate(**loglog)\n",
    "\n",
    "    x = np.log(ns)\n",
    "    y = np.log(bests)\n",
    "    t = linregress(x,y)\n",
    "    slope = t[0]\n",
    "\n",
    "    return slope"
   ]
  },
  {
   "cell_type": "code",
   "execution_count": null,
   "metadata": {
    "id": "Gd53-9WjN64O"
   },
   "outputs": [],
   "source": [
    "PI2 = np.pi * 2\n",
    "\n",
    "def analyze1(ys, fs, ts):\n",
    "\n",
    "    args = np.outer(ts, fs)\n",
    "    M = np.cos(PI2 * args)\n",
    "    amps = np.linalg.solve(M, ys)\n",
    "    return amps"
   ]
  },
  {
   "cell_type": "code",
   "execution_count": null,
   "metadata": {
    "colab": {
     "base_uri": "https://localhost:8080/"
    },
    "id": "MXbBujxnNPUz",
    "outputId": "76ffe5e4-0ab9-4a85-b038-24f5d0e2367f"
   },
   "outputs": [],
   "source": [
    "ns = 2 ** np.arange(6, 13)\n",
    "ns"
   ]
  },
  {
   "cell_type": "code",
   "execution_count": null,
   "metadata": {
    "colab": {
     "base_uri": "https://localhost:8080/",
     "height": 574
    },
    "id": "v_djZ8bUNRon",
    "outputId": "456c4f45-4a8e-4309-ee75-8977c23eea2d"
   },
   "outputs": [],
   "source": [
    "results = []\n",
    "for N in ns:\n",
    "  print(N)\n",
    "  ts = (0.5 + np.arange(N)) / N\n",
    "  freqs = (0.5 + np.arange(N)) / 2\n",
    "  ys = noise.ys[:N]\n",
    "  result = %timeit -r1 -o analyze1(ys, freqs, ts)\n",
    "  results.append(result)\n",
    "\n",
    "bests = [result.best for result in results]\n",
    "plot_bests(ns, bests)"
   ]
  },
  {
   "cell_type": "markdown",
   "metadata": {
    "id": "HyeO7GggSr0x"
   },
   "source": [
    "Как говорится в пособии chap06starter расчетный уклон ближе к степени двойки, чем тройки. Производительность np.linalg.solve почти квадратична в этом диапозоне размеров массива. К сожеланию, из-за малой мощности рабочей машины, не удалось протестировать analyze1 со заничением 16384. Из графика видно, что линия в конце чуть-чуть изогнута, что говорит о том, что размер массива не достигнут, где analyze1 показывает рост пропорционально  n3 . Из этого можно сделать вывод, что при больших размерах массива, рост analyze1 будет пропорционален  n3 ."
   ]
  },
  {
   "cell_type": "code",
   "execution_count": null,
   "metadata": {
    "id": "gnkrGo3aSvzs"
   },
   "outputs": [],
   "source": [
    "def analyze2(ys, fs, ts):\n",
    "\n",
    "    args = np.outer(ts, fs)\n",
    "    M = np.cos(PI2 * args)\n",
    "    amps = np.dot(M, ys) / 2\n",
    "    return amps"
   ]
  },
  {
   "cell_type": "code",
   "execution_count": null,
   "metadata": {
    "colab": {
     "base_uri": "https://localhost:8080/"
    },
    "id": "JFhKCJyfSyAh",
    "outputId": "9bde3ebf-dfc7-4232-de3f-35108d16a31d"
   },
   "outputs": [],
   "source": [
    "signal = UncorrelatedGaussianNoise()\n",
    "noise = signal.make_wave(duration=1.0, framerate=16384)\n",
    "noise.ys.shape\n",
    "\n",
    "ns = 2 ** np.arange(6, 15)\n",
    "ns"
   ]
  },
  {
   "cell_type": "code",
   "execution_count": null,
   "metadata": {
    "colab": {
     "base_uri": "https://localhost:8080/",
     "height": 661
    },
    "id": "xs5jRG2RSz54",
    "outputId": "05e62581-a926-4c49-9aab-459ccd6e225b"
   },
   "outputs": [],
   "source": [
    "results = []\n",
    "for N in ns:\n",
    "  print(N)\n",
    "  ts = (0.5 + np.arange(N)) / N\n",
    "  freqs = (0.5 + np.arange(N)) / 2\n",
    "  ys = noise.ys[:N]\n",
    "  result = %timeit -r1 -o analyze2(ys, freqs, ts)\n",
    "  results.append(result)\n",
    "\n",
    "bests2 = [result.best for result in results]\n",
    "plot_bests(ns, bests2)"
   ]
  },
  {
   "cell_type": "markdown",
   "metadata": {
    "id": "xiGzdtteS3go"
   },
   "source": [
    "Как видно из графика, analyze2 растет пропорционально  n2 . Проведем такой же эксперимент scipy.fftpack.dct."
   ]
  },
  {
   "cell_type": "code",
   "execution_count": null,
   "metadata": {
    "id": "ICH-yrDHS-R0"
   },
   "outputs": [],
   "source": [
    "import scipy.fftpack\n",
    "\n",
    "def scipy_dct(ys, freqs, ts):\n",
    "    return scipy.fftpack.dct(ys, type=3)"
   ]
  },
  {
   "cell_type": "code",
   "execution_count": null,
   "metadata": {
    "colab": {
     "base_uri": "https://localhost:8080/",
     "height": 626
    },
    "id": "HCaXAZmBTA7N",
    "outputId": "3b1dab9d-68e5-42af-d116-fcbcb05667a1"
   },
   "outputs": [],
   "source": [
    "results = []\n",
    "for N in ns:\n",
    "  ys = noise.ys[:N]\n",
    "  result = %timeit -r1 -o scipy.fftpack.dct(ys, type=3)\n",
    "  results.append(result)\n",
    "\n",
    "bests3 = [result.best for result in results]\n",
    "plot_bests(ns, bests3)"
   ]
  },
  {
   "cell_type": "markdown",
   "metadata": {
    "id": "PUnVkH5hTG-D"
   },
   "source": [
    "dct реализация намного быстрее, она пропорциональна nlogn"
   ]
  },
  {
   "cell_type": "markdown",
   "metadata": {
    "id": "VDswutCuTJc3"
   },
   "source": [
    "Упражнение 2"
   ]
  },
  {
   "cell_type": "code",
   "execution_count": null,
   "metadata": {
    "colab": {
     "base_uri": "https://localhost:8080/",
     "height": 74
    },
    "id": "urVwaWGVToCI",
    "outputId": "bac7b723-1bd1-4fc1-dffc-391d43d17d67"
   },
   "outputs": [],
   "source": [
    "from thinkdsp import read_wave\n",
    "\n",
    "wave = read_wave('E:\\wav\\code_saxop.wav')\n",
    "wave.make_audio()"
   ]
  },
  {
   "cell_type": "code",
   "execution_count": null,
   "metadata": {
    "colab": {
     "base_uri": "https://localhost:8080/",
     "height": 74
    },
    "id": "FRrUBHgfTr7B",
    "outputId": "61944394-5238-4803-867d-177db5cbe3bd"
   },
   "outputs": [],
   "source": [
    "segment = wave.segment(start=1.2, duration=0.5)\n",
    "segment.normalize()\n",
    "segment.make_audio()"
   ]
  },
  {
   "cell_type": "code",
   "execution_count": null,
   "metadata": {
    "colab": {
     "base_uri": "https://localhost:8080/",
     "height": 297
    },
    "id": "f110J4d8TuXS",
    "outputId": "e10a6bfa-c28b-4f93-b8b6-db3ad6877c75"
   },
   "outputs": [],
   "source": [
    "seg_dct = segment.make_dct()\n",
    "seg_dct.plot(high=4000)\n",
    "decorate(xlabel='Частота (Гц)', ylabel='DCT')"
   ]
  },
  {
   "cell_type": "markdown",
   "metadata": {
    "id": "gk_uph1dTzkd"
   },
   "source": [
    "Из графика видно, что есть немного частот с большой амплитудой. Следующая функция compress и режет элемент, которые ниже аргумента thresh."
   ]
  },
  {
   "cell_type": "code",
   "execution_count": null,
   "metadata": {
    "id": "AmxycnuRT2MX"
   },
   "outputs": [],
   "source": [
    "def compress(dct, thresh=1):\n",
    "    count = 0\n",
    "    for i, amp in enumerate(dct.amps):\n",
    "        if np.abs(amp) < thresh:\n",
    "            dct.hs[i] = 0\n",
    "            count += 1\n",
    "\n",
    "    n = len(dct.amps)\n",
    "    print(count, n, 100 * count / n, sep='\\t')"
   ]
  },
  {
   "cell_type": "code",
   "execution_count": null,
   "metadata": {
    "colab": {
     "base_uri": "https://localhost:8080/",
     "height": 282
    },
    "id": "00sF66alT6G4",
    "outputId": "21794f91-46fc-4153-ec20-a51c829f997d"
   },
   "outputs": [],
   "source": [
    "seg_dct = segment.make_dct()\n",
    "compress(seg_dct, thresh=10)\n",
    "seg_dct.plot(high=4000)"
   ]
  },
  {
   "cell_type": "code",
   "execution_count": null,
   "metadata": {
    "colab": {
     "base_uri": "https://localhost:8080/",
     "height": 74
    },
    "id": "UelyBxW8T8aR",
    "outputId": "ae6a58fa-9427-437c-f21d-f981130bdf5d"
   },
   "outputs": [],
   "source": [
    "seg2 = seg_dct.make_wave()\n",
    "seg2.make_audio()"
   ]
  },
  {
   "cell_type": "markdown",
   "metadata": {
    "id": "15TVsKZdgmW3"
   },
   "source": [
    "# Лабораторная работа 7. Дискретное преобразование Фурье"
   ]
  },
  {
   "cell_type": "code",
   "execution_count": null,
   "metadata": {
    "id": "Mwxos9Yj4wrQ"
   },
   "outputs": [],
   "source": [
    "import numpy as np\n",
    "PI2 = 2 * np.pi"
   ]
  },
  {
   "cell_type": "code",
   "execution_count": null,
   "metadata": {
    "colab": {
     "base_uri": "https://localhost:8080/"
    },
    "id": "OK1WoU2S5ZML",
    "outputId": "9253f8ea-6e77-4251-e675-2cd5872af2fd"
   },
   "outputs": [],
   "source": [
    "ys = [-0.5, 0.1, 0.7, -0.1]\n",
    "hs = np.fft.fft(ys)\n",
    "print(hs)"
   ]
  },
  {
   "cell_type": "code",
   "execution_count": null,
   "metadata": {
    "id": "T352oXGB5boT"
   },
   "outputs": [],
   "source": [
    "def dft(ys):\n",
    "    N = len(ys)\n",
    "    ts = np.arange(N) / N\n",
    "    freqs = np.arange(N)\n",
    "    args = np.outer(ts, freqs)\n",
    "    M = np.exp(1j * PI2 * args)\n",
    "    amps = M.conj().transpose().dot(ys)\n",
    "    return amps"
   ]
  },
  {
   "cell_type": "code",
   "execution_count": null,
   "metadata": {
    "colab": {
     "base_uri": "https://localhost:8080/"
    },
    "id": "AxrfhFu65eZK",
    "outputId": "09d38c68-8f0f-44fb-f9ec-907bc359a198"
   },
   "outputs": [],
   "source": [
    "hs2 = dft(ys)\n",
    "np.sum(np.abs(hs - hs2))"
   ]
  },
  {
   "cell_type": "code",
   "execution_count": null,
   "metadata": {
    "id": "lEG_CR4a5fPq"
   },
   "outputs": [],
   "source": [
    "def fft_norec(ys):\n",
    "    N = len(ys)\n",
    "    He = np.fft.fft(ys[::2])\n",
    "    Ho = np.fft.fft(ys[1::2])\n",
    "\n",
    "    ns = np.arange(N)\n",
    "    W = np.exp(-1j * PI2 * ns / N)\n",
    "\n",
    "    return np.tile(He, 2) + W * np.tile(Ho, 2)"
   ]
  },
  {
   "cell_type": "code",
   "execution_count": null,
   "metadata": {
    "colab": {
     "base_uri": "https://localhost:8080/"
    },
    "id": "B098M4cr5idr",
    "outputId": "95cee6e6-bc89-4f99-a6d5-efa227c19f63"
   },
   "outputs": [],
   "source": [
    "hs3 = fft_norec(ys)\n",
    "np.sum(np.abs(hs - hs3))"
   ]
  },
  {
   "cell_type": "code",
   "execution_count": null,
   "metadata": {
    "id": "snXPvLuu5kpg"
   },
   "outputs": [],
   "source": [
    "def fft(ys):\n",
    "    N = len(ys)\n",
    "    if N == 1:\n",
    "        return ys\n",
    "\n",
    "    He = fft(ys[::2])\n",
    "    Ho = fft(ys[1::2])\n",
    "\n",
    "    ns = np.arange(N)\n",
    "    W = np.exp(-1j * PI2 * ns / N)\n",
    "\n",
    "    return np.tile(He, 2) + W * np.tile(Ho, 2)"
   ]
  },
  {
   "cell_type": "code",
   "execution_count": null,
   "metadata": {
    "colab": {
     "base_uri": "https://localhost:8080/"
    },
    "id": "U7bCFMxf5nuo",
    "outputId": "a3830de6-b33a-4624-c8d4-f41fc000a2b8"
   },
   "outputs": [],
   "source": [
    "hs4 = fft(ys)\n",
    "np.sum(np.abs(hs - hs4))"
   ]
  },
  {
   "cell_type": "markdown",
   "metadata": {
    "id": "5AsfuyhnSlqW"
   },
   "source": [
    "Эта реализация БПФ требует времени, пропорционального nlogn. Он также занимает место, пропорциональное nlogn , и тратит некоторое время на создание и копирование массивов. Его можно улучшить для запуска «на месте». В этом случае он не требует дополнительного места и тратит меньше времени на накладные расходы."
   ]
  },
  {
   "cell_type": "markdown",
   "metadata": {
    "id": "GUk_AkYmg5T4"
   },
   "source": [
    "# Лабораторная работа 8. Фильтрация и свертка"
   ]
  },
  {
   "cell_type": "code",
   "execution_count": null,
   "metadata": {
    "id": "T8mf4su1TAZT"
   },
   "outputs": [],
   "source": [
    "import os"
   ]
  },
  {
   "cell_type": "code",
   "execution_count": null,
   "metadata": {
    "id": "FkKnMJuAREKM"
   },
   "outputs": [],
   "source": [
    "import numpy as np\n",
    "import matplotlib.pyplot as plt\n",
    "\n",
    "from thinkdsp import decorate"
   ]
  },
  {
   "cell_type": "code",
   "execution_count": null,
   "metadata": {
    "colab": {
     "base_uri": "https://localhost:8080/",
     "height": 297
    },
    "id": "vbAhGlWVRIKB",
    "outputId": "3f7898b7-b141-45bd-8875-15bd1fad7216"
   },
   "outputs": [],
   "source": [
    "import scipy.signal\n",
    "\n",
    "gaussian = scipy.signal.gaussian(M=32, std=2)\n",
    "gaussian /= sum(gaussian)\n",
    "plt.plot(gaussian)\n",
    "decorate(xlabel='Index')"
   ]
  },
  {
   "cell_type": "code",
   "execution_count": null,
   "metadata": {
    "colab": {
     "base_uri": "https://localhost:8080/",
     "height": 297
    },
    "id": "vpTCJFg2RPeY",
    "outputId": "3fca8e84-c188-4e77-c243-85ffa9c91fbf"
   },
   "outputs": [],
   "source": [
    "fft_gaussian = np.fft.fft(gaussian)\n",
    "plt.plot(abs(fft_gaussian))\n",
    "decorate(xlabel='Frequency (Hz)', ylabel='Amplitude')"
   ]
  },
  {
   "cell_type": "markdown",
   "metadata": {
    "id": "gnS6IYcfR3fK"
   },
   "source": [
    "Если мы прокрутим отрицательные частоты влево, мы сможем более четко увидеть, что это гауссово движение, по крайней мере, приблизительно"
   ]
  },
  {
   "cell_type": "code",
   "execution_count": null,
   "metadata": {
    "colab": {
     "base_uri": "https://localhost:8080/",
     "height": 297
    },
    "id": "9b8mVnzpR9IU",
    "outputId": "1e020897-e55a-4f4b-e0b3-db7060bbc297"
   },
   "outputs": [],
   "source": [
    "N = len(gaussian)\n",
    "fft_rolled = np.roll(fft_gaussian, N//2)\n",
    "plt.plot(abs(fft_rolled))\n",
    "decorate(xlabel='Frequency (Hz)', ylabel='Amplitude')"
   ]
  },
  {
   "cell_type": "code",
   "execution_count": null,
   "metadata": {
    "colab": {
     "base_uri": "https://localhost:8080/",
     "height": 297
    },
    "id": "FcwMwfMMSBWe",
    "outputId": "d2df6943-85e4-4f73-e7d9-2fa6463b932e"
   },
   "outputs": [],
   "source": [
    "def plot_gaussian(std):\n",
    "    M = 32\n",
    "    gaussian = scipy.signal.gaussian(M=M, std=std)\n",
    "    gaussian /= sum(gaussian)\n",
    "\n",
    "    plt.subplot(1, 2, 1)\n",
    "    plt.plot(gaussian)\n",
    "    decorate(xlabel='Time')\n",
    "\n",
    "    fft_gaussian = np.fft.fft(gaussian)\n",
    "    fft_rolled = np.roll(fft_gaussian, M//2)\n",
    "\n",
    "    plt.subplot(1, 2, 2)\n",
    "    plt.plot(np.abs(fft_rolled))\n",
    "    decorate(xlabel='Frequency')\n",
    "    plt.show()\n",
    "\n",
    "plot_gaussian(2)"
   ]
  },
  {
   "cell_type": "code",
   "execution_count": null,
   "metadata": {
    "colab": {
     "base_uri": "https://localhost:8080/",
     "height": 329,
     "referenced_widgets": [
      "a642bf98b4424f4e8966ff49d5e20aa9",
      "4d86dfc5468d45239f7a0292a212cc14",
      "c856e41f0ef9458f9ccda70d3df797f8",
      "09a6144fcc9040f0857ce62e5ac47216",
      "8d577f8cce9344129a2272872ac69d6e",
      "98e2a95408354d43a62ffb78bf0bbb16",
      "73414f3e66e3412d82620322e3561be0",
      "37f8372f80c54638bbb55f304385538e"
     ]
    },
    "id": "KiDzWwq8SHVz",
    "outputId": "6dc813d2-02f4-45f2-87d8-58926505f125"
   },
   "outputs": [],
   "source": [
    "from ipywidgets import interact, interactive, fixed\n",
    "import ipywidgets as widgets\n",
    "\n",
    "slider = widgets.FloatSlider(min=0.1, max=10, value=2)\n",
    "interact(plot_gaussian, std=slider);"
   ]
  },
  {
   "cell_type": "markdown",
   "metadata": {
    "id": "wI_cgLMdSL1h"
   },
   "source": [
    "Упражнение 2"
   ]
  },
  {
   "cell_type": "code",
   "execution_count": null,
   "metadata": {
    "id": "EQZtKhDWSNx-"
   },
   "outputs": [],
   "source": [
    "from thinkdsp import SquareSignal\n",
    "\n",
    "signal = SquareSignal(freq=440)\n",
    "wave = signal.make_wave(duration=1.0, framerate=44100)"
   ]
  },
  {
   "cell_type": "code",
   "execution_count": null,
   "metadata": {
    "id": "HZPavSJ9SU58"
   },
   "outputs": [],
   "source": [
    "M = 15\n",
    "std = 2.5\n",
    "\n",
    "gaussian = scipy.signal.gaussian(M=M, std=std)\n",
    "bartlett = np.bartlett(M)\n",
    "blackman = np.blackman(M)\n",
    "hamming = np.hamming(M)\n",
    "hanning = np.hanning(M)\n",
    "\n",
    "windows = [blackman, gaussian, hanning, hamming]\n",
    "names = ['blackman', 'gaussian', 'hanning', 'hamming']\n",
    "\n",
    "for window in windows:\n",
    "    window /= sum(window)"
   ]
  },
  {
   "cell_type": "code",
   "execution_count": null,
   "metadata": {
    "colab": {
     "base_uri": "https://localhost:8080/",
     "height": 297
    },
    "id": "aHphNFo-Sf_O",
    "outputId": "6c8c8465-15bf-47a0-c315-67f8ab73a181"
   },
   "outputs": [],
   "source": [
    "for window, name in zip(windows, names):\n",
    "    plt.plot(window, label=name)\n",
    "\n",
    "decorate(xlabel='Index')"
   ]
  },
  {
   "cell_type": "code",
   "execution_count": null,
   "metadata": {
    "id": "RorK8AZQSt60"
   },
   "outputs": [],
   "source": [
    "def zero_pad(array, n):\n",
    "    \"\"\"Extends an array with zeros.\n",
    "\n",
    "    array: NumPy array\n",
    "    n: length of result\n",
    "\n",
    "    returns: new NumPy array\n",
    "    \"\"\"\n",
    "    res = np.zeros(n)\n",
    "    res[:len(array)] = array\n",
    "    return res"
   ]
  },
  {
   "cell_type": "code",
   "execution_count": null,
   "metadata": {
    "id": "Safuvn9RSu-B"
   },
   "outputs": [],
   "source": [
    "def plot_window_dfts(windows, names):\n",
    "    \"\"\"\n",
    "    \"\"\"\n",
    "    for window, name in zip(windows, names):\n",
    "        padded =  zero_pad(window, len(wave))\n",
    "        dft_window = np.fft.rfft(padded)\n",
    "        plt.plot(abs(dft_window), label=name)"
   ]
  },
  {
   "cell_type": "markdown",
   "metadata": {
    "id": "QbLdES_dS7Xz"
   },
   "source": [
    " Хэмминг падает быстрее всего, Блэкман — медленнее, а Хэннинг имеет самые заметные боковые лепестки."
   ]
  },
  {
   "cell_type": "code",
   "execution_count": null,
   "metadata": {
    "colab": {
     "base_uri": "https://localhost:8080/",
     "height": 297
    },
    "id": "zhxoc5PVTA7u",
    "outputId": "d5ddcefe-4b97-441e-9e56-c60816646350"
   },
   "outputs": [],
   "source": [
    "plot_window_dfts(windows, names)\n",
    "decorate(xlabel='Frequency (Hz)')"
   ]
  },
  {
   "cell_type": "code",
   "execution_count": null,
   "metadata": {
    "colab": {
     "base_uri": "https://localhost:8080/",
     "height": 297
    },
    "id": "iYwzjCJoTD0w",
    "outputId": "c655bf9e-cf18-4963-f6b9-833e64f14e69"
   },
   "outputs": [],
   "source": [
    "plot_window_dfts(windows, names)\n",
    "decorate(xlabel='Frequency (Hz)', yscale='log')"
   ]
  },
  {
   "cell_type": "markdown",
   "metadata": {
    "id": "S3SfAWZrTLuJ"
   },
   "source": [
    "\n",
    "В логарифмическом масштабе мы видим, что показатели Хэмминга и Ханнинга поначалу снижаются быстрее, чем у двух других."
   ]
  },
  {
   "cell_type": "markdown",
   "metadata": {
    "id": "H5e_UPxvhRgT"
   },
   "source": [
    "# Лабораторная работа 9. Дифференцирование и интегрирование"
   ]
  },
  {
   "cell_type": "code",
   "execution_count": null,
   "metadata": {
    "id": "o_m1JLUMTuqP"
   },
   "outputs": [],
   "source": [
    "import os"
   ]
  },
  {
   "cell_type": "code",
   "execution_count": null,
   "metadata": {
    "id": "KrKjySVtUInG"
   },
   "outputs": [],
   "source": [
    "import numpy as np\n",
    "import matplotlib.pyplot as plt\n",
    "\n",
    "from thinkdsp import decorate"
   ]
  },
  {
   "cell_type": "markdown",
   "metadata": {
    "id": "kytYe7LKUhmh"
   },
   "source": [
    "Треугольный сигнал"
   ]
  },
  {
   "cell_type": "code",
   "execution_count": null,
   "metadata": {
    "colab": {
     "base_uri": "https://localhost:8080/",
     "height": 297
    },
    "id": "h_oPiKubUTjk",
    "outputId": "7cd5c852-782e-4748-ea40-6bff4f529ec8"
   },
   "outputs": [],
   "source": [
    "from thinkdsp import TriangleSignal\n",
    "\n",
    "in_wave = TriangleSignal(freq=50).make_wave(duration=0.1, framerate=44200)\n",
    "in_wave.plot()\n",
    "decorate(xlabel='Time (sec)')"
   ]
  },
  {
   "cell_type": "code",
   "execution_count": null,
   "metadata": {
    "colab": {
     "base_uri": "https://localhost:8080/",
     "height": 297
    },
    "id": "KywhExA9UW2G",
    "outputId": "53a2906b-d87e-4aeb-dd9b-d72f84035d09"
   },
   "outputs": [],
   "source": [
    "out_wave = in_wave.diff()\n",
    "out_wave.plot()\n",
    "decorate(xlabel='Time (sec)')"
   ]
  },
  {
   "cell_type": "code",
   "execution_count": null,
   "metadata": {
    "colab": {
     "base_uri": "https://localhost:8080/",
     "height": 297
    },
    "id": "h8YrOAmfUomy",
    "outputId": "5ee3da40-14dc-4dbb-ab8a-88fc8987354c"
   },
   "outputs": [],
   "source": [
    "out_wave2 = in_wave.make_spectrum().differentiate().make_wave()\n",
    "out_wave2.plot()\n",
    "decorate(xlabel='Time (sec)')"
   ]
  },
  {
   "cell_type": "markdown",
   "metadata": {
    "id": "nQQR6qpdUsyx"
   },
   "source": [
    "Упражнение 2"
   ]
  },
  {
   "cell_type": "markdown",
   "metadata": {
    "id": "5hNB36aCVM6B"
   },
   "source": [
    "Квадратный сигнал"
   ]
  },
  {
   "cell_type": "code",
   "execution_count": null,
   "metadata": {
    "colab": {
     "base_uri": "https://localhost:8080/",
     "height": 297
    },
    "id": "auTZ2v7sU2HS",
    "outputId": "4301fe97-8716-407a-f757-bddd7aa44d32"
   },
   "outputs": [],
   "source": [
    "from thinkdsp import SquareSignal\n",
    "\n",
    "in_wave = SquareSignal(freq=50).make_wave(duration=0.1, framerate=44100)\n",
    "in_wave.plot()\n",
    "decorate(xlabel='Time (sec)')"
   ]
  },
  {
   "cell_type": "code",
   "execution_count": null,
   "metadata": {
    "colab": {
     "base_uri": "https://localhost:8080/",
     "height": 297
    },
    "id": "eTztrbnwVC1R",
    "outputId": "0b74f73b-b859-4498-f591-05e1d98c44d8"
   },
   "outputs": [],
   "source": [
    "out_wave = in_wave.cumsum()\n",
    "out_wave.plot()\n",
    "decorate(xlabel='Time (sec)')"
   ]
  },
  {
   "cell_type": "code",
   "execution_count": null,
   "metadata": {
    "colab": {
     "base_uri": "https://localhost:8080/",
     "height": 297
    },
    "id": "0o_JKdX2VHEa",
    "outputId": "0dcf9ecc-c2b6-44d6-ab26-39b147f76964"
   },
   "outputs": [],
   "source": [
    "spectrum = in_wave.make_spectrum().integrate()\n",
    "spectrum.hs[0] = 0\n",
    "out_wave2 = spectrum.make_wave()\n",
    "out_wave2.plot()\n",
    "decorate(xlabel='Time (sec)')"
   ]
  },
  {
   "cell_type": "code",
   "execution_count": null,
   "metadata": {
    "colab": {
     "base_uri": "https://localhost:8080/",
     "height": 265
    },
    "id": "BOVPT4AEVUZX",
    "outputId": "5dff847f-0d44-41dc-f98c-4ad87dda1ea4"
   },
   "outputs": [],
   "source": [
    "out_wave.unbias()\n",
    "out_wave.normalize()\n",
    "out_wave2.normalize()\n",
    "out_wave.plot()\n",
    "out_wave2.plot()"
   ]
  },
  {
   "cell_type": "code",
   "execution_count": null,
   "metadata": {
    "colab": {
     "base_uri": "https://localhost:8080/"
    },
    "id": "TcvCGsZAVk3i",
    "outputId": "07ce2b33-b65b-44c0-9427-ea21d96d7ce8"
   },
   "outputs": [],
   "source": [
    "out_wave.max_diff(out_wave2)"
   ]
  },
  {
   "cell_type": "markdown",
   "metadata": {
    "id": "jne7EWe9VrRf"
   },
   "source": [
    "Упражнение 3"
   ]
  },
  {
   "cell_type": "code",
   "execution_count": null,
   "metadata": {
    "colab": {
     "base_uri": "https://localhost:8080/",
     "height": 297
    },
    "id": "epYS6Hv7Vw3P",
    "outputId": "a122d4fa-a1c5-49a1-df8b-b64f15865591"
   },
   "outputs": [],
   "source": [
    "from thinkdsp import SawtoothSignal\n",
    "\n",
    "in_wave = SawtoothSignal(freq=50).make_wave(duration=0.1, framerate=44100)\n",
    "in_wave.plot()\n",
    "decorate(xlabel='Time (s)')"
   ]
  },
  {
   "cell_type": "markdown",
   "metadata": {
    "id": "D3-7dMn7WFmD"
   },
   "source": [
    "Первая кумулятивная сумма зубца пилы – это парабола:"
   ]
  },
  {
   "cell_type": "code",
   "execution_count": null,
   "metadata": {
    "colab": {
     "base_uri": "https://localhost:8080/",
     "height": 297
    },
    "id": "5sp8lvmQWIY-",
    "outputId": "08fe71bc-3dc1-497b-83b3-e7de4b56413d"
   },
   "outputs": [],
   "source": [
    "out_wave = in_wave.cumsum()\n",
    "out_wave.unbias()\n",
    "out_wave.plot()\n",
    "decorate(xlabel='Time (sec)')"
   ]
  },
  {
   "cell_type": "code",
   "execution_count": null,
   "metadata": {
    "colab": {
     "base_uri": "https://localhost:8080/",
     "height": 297
    },
    "id": "dpUk61jdW3fx",
    "outputId": "57e714df-7faa-43e8-e1c3-3c1a4986a7e0"
   },
   "outputs": [],
   "source": [
    "out_wave = out_wave.cumsum()\n",
    "out_wave.plot()\n",
    "decorate(xlabel='Time (sec)')"
   ]
  },
  {
   "cell_type": "code",
   "execution_count": null,
   "metadata": {
    "colab": {
     "base_uri": "https://localhost:8080/",
     "height": 297
    },
    "id": "jerrVhvwW7zD",
    "outputId": "4e26b725-8c3d-47e9-89c6-0520c92ea34c"
   },
   "outputs": [],
   "source": [
    "spectrum = in_wave.make_spectrum().integrate().integrate()\n",
    "spectrum.hs[0] = 0\n",
    "out_wave2 = spectrum.make_wave()\n",
    "out_wave2.plot()\n",
    "decorate(xlabel='Time (sec)')"
   ]
  },
  {
   "cell_type": "code",
   "execution_count": null,
   "metadata": {
    "colab": {
     "base_uri": "https://localhost:8080/",
     "height": 265
    },
    "id": "cy0OfI8fXAlY",
    "outputId": "33ee85b0-bb0a-4ad8-b0cd-9bf38006e2b4"
   },
   "outputs": [],
   "source": [
    "out_wave2.make_spectrum().plot(high=500)"
   ]
  },
  {
   "cell_type": "markdown",
   "metadata": {
    "id": "QvBnI3P7XL-V"
   },
   "source": [
    "В этот момент результат все больше и больше напоминает синусоиду."
   ]
  },
  {
   "cell_type": "markdown",
   "metadata": {
    "id": "YvSmhNIQXRWa"
   },
   "source": [
    "Упражнение 4"
   ]
  },
  {
   "cell_type": "markdown",
   "metadata": {
    "id": "HhhzQ8uwXXhH"
   },
   "source": [
    "Кубический сигнал"
   ]
  },
  {
   "cell_type": "code",
   "execution_count": null,
   "metadata": {
    "colab": {
     "base_uri": "https://localhost:8080/",
     "height": 265
    },
    "id": "NRZ0tOdbXa1f",
    "outputId": "b42cfa1d-d085-46ff-845e-06a2f4912f59"
   },
   "outputs": [],
   "source": [
    "from thinkdsp import CubicSignal\n",
    "\n",
    "in_wave = CubicSignal(freq=0.0005).make_wave(duration=10000, framerate=1)\n",
    "in_wave.plot()"
   ]
  },
  {
   "cell_type": "code",
   "execution_count": null,
   "metadata": {
    "colab": {
     "base_uri": "https://localhost:8080/",
     "height": 265
    },
    "id": "VzIDZhb1XeoG",
    "outputId": "007ff0b8-cbc1-4bac-bb69-697bfb115994"
   },
   "outputs": [],
   "source": [
    "out_wave = in_wave.diff()\n",
    "out_wave.plot()"
   ]
  },
  {
   "cell_type": "code",
   "execution_count": null,
   "metadata": {
    "colab": {
     "base_uri": "https://localhost:8080/",
     "height": 276
    },
    "id": "gcxwQzFCXhny",
    "outputId": "2d7ea5fc-460e-42ed-a917-905430f3d632"
   },
   "outputs": [],
   "source": [
    "out_wave = out_wave.diff()\n",
    "out_wave.plot()"
   ]
  },
  {
   "cell_type": "code",
   "execution_count": null,
   "metadata": {
    "colab": {
     "base_uri": "https://localhost:8080/",
     "height": 297
    },
    "id": "kd3JlhoZXkQV",
    "outputId": "de2a15b3-72c2-4822-caa4-cb953405bd9a"
   },
   "outputs": [],
   "source": [
    "spectrum = in_wave.make_spectrum().differentiate().differentiate()\n",
    "out_wave2 = spectrum.make_wave()\n",
    "out_wave2.plot()\n",
    "decorate(xlabel='Time (sec)')"
   ]
  },
  {
   "cell_type": "code",
   "execution_count": null,
   "metadata": {
    "colab": {
     "base_uri": "https://localhost:8080/",
     "height": 297
    },
    "id": "lNHOHV62Xq6T",
    "outputId": "6f93108c-b685-430e-a5d3-1f0d29b747dd"
   },
   "outputs": [],
   "source": [
    "from thinkdsp import zero_pad\n",
    "from thinkdsp import Wave\n",
    "\n",
    "diff_window = np.array([-1.0, 2.0, -1.0])\n",
    "padded = zero_pad(diff_window, len(in_wave))\n",
    "diff_wave = Wave(padded, framerate=in_wave.framerate)\n",
    "diff_filter = diff_wave.make_spectrum()\n",
    "diff_filter.plot(label='2nd diff')\n",
    "\n",
    "decorate(xlabel='Frequency (Hz)',\n",
    "                 ylabel='Amplitude ratio')"
   ]
  },
  {
   "cell_type": "code",
   "execution_count": null,
   "metadata": {
    "colab": {
     "base_uri": "https://localhost:8080/",
     "height": 297
    },
    "id": "xfCSgPkNXw6k",
    "outputId": "e79bdc9b-50bf-40d2-d5f9-5834d3fe1557"
   },
   "outputs": [],
   "source": [
    "PI2 = np.pi * 2\n",
    "\n",
    "deriv_filter = in_wave.make_spectrum()\n",
    "deriv_filter.hs = (PI2 * 1j * deriv_filter.fs)**2\n",
    "deriv_filter.plot(label='2nd deriv')\n",
    "\n",
    "decorate(xlabel='Frequency (Hz)',\n",
    "                 ylabel='Amplitude ratio')"
   ]
  },
  {
   "cell_type": "code",
   "execution_count": null,
   "metadata": {
    "colab": {
     "base_uri": "https://localhost:8080/",
     "height": 297
    },
    "id": "MdPe6D4tXzjw",
    "outputId": "4f64e44f-ade9-434f-d531-2fdf966e26cf"
   },
   "outputs": [],
   "source": [
    "diff_filter.plot(label='2nd diff')\n",
    "deriv_filter.plot(label='2nd deriv')\n",
    "\n",
    "decorate(xlabel='Frequency (Hz)',\n",
    "                 ylabel='Amplitude ratio')"
   ]
  },
  {
   "cell_type": "markdown",
   "metadata": {
    "id": "qYuBsfS5X_bv"
   },
   "source": [
    "Оба являются фильтрами верхних частот, которые усиливают высокочастотные компоненты. Вторая производная является параболической, поэтому она больше всего усиливает самые высокие частоты. 2-я разность является хорошей аппроксимацией 2-й производной только на самых низких частотах, далее она существенно отклоняется."
   ]
  },
  {
   "cell_type": "markdown",
   "metadata": {
    "id": "uLdSD2G8hv4l"
   },
   "source": [
    "# Лабораторная работа 10. Линейные стационарные системы"
   ]
  },
  {
   "cell_type": "code",
   "execution_count": null,
   "metadata": {
    "id": "W-xTnVIMYbTb"
   },
   "outputs": [],
   "source": [
    "import os\n"
   ]
  },
  {
   "cell_type": "code",
   "execution_count": null,
   "metadata": {
    "id": "IwPvrm0kpcPC"
   },
   "outputs": [],
   "source": [
    "import numpy as np\n",
    "import matplotlib.pyplot as plt\n",
    "\n",
    "from thinkdsp import decorate"
   ]
  },
  {
   "cell_type": "code",
   "execution_count": null,
   "metadata": {
    "colab": {
     "base_uri": "https://localhost:8080/",
     "height": 297
    },
    "id": "a7u8Xn9wp_ol",
    "outputId": "615b88be-f389-4634-d180-f43898eb856c"
   },
   "outputs": [],
   "source": [
    "from thinkdsp import read_wave\n",
    "\n",
    "response = read_wave('E:\\wav\\code_180960__kleeb__gunshot.wav')\n",
    "\n",
    "start = 0.12\n",
    "response = response.segment(start=start)\n",
    "response.shift(-start)\n",
    "\n",
    "response.truncate(2**16)\n",
    "response.zero_pad(2**17)\n",
    "\n",
    "response.normalize()\n",
    "response.plot()\n",
    "decorate(xlabel='Time (sec)')"
   ]
  },
  {
   "cell_type": "code",
   "execution_count": null,
   "metadata": {
    "colab": {
     "base_uri": "https://localhost:8080/",
     "height": 297
    },
    "id": "W5QHcOHsqGk4",
    "outputId": "ceb37b79-e3c2-4837-8b05-004dc658bcf6"
   },
   "outputs": [],
   "source": [
    "transfer = response.make_spectrum()\n",
    "transfer.plot()\n",
    "decorate(xlabel='Frequency (Hz)', ylabel='Amplitude')"
   ]
  },
  {
   "cell_type": "code",
   "execution_count": null,
   "metadata": {
    "colab": {
     "base_uri": "https://localhost:8080/",
     "height": 297
    },
    "id": "bummqiQhqoJF",
    "outputId": "4db78be6-c90e-44a9-df5d-f7c1127910cd"
   },
   "outputs": [],
   "source": [
    "violin = read_wave('E:\\wav\\code_92002__jcveliz__violin-origional.wav')\n",
    "\n",
    "start = 0.11\n",
    "violin = violin.segment(start=start)\n",
    "violin.shift(-start)\n",
    "\n",
    "violin.truncate(2**16)\n",
    "violin.zero_pad(2**17)\n",
    "\n",
    "violin.normalize()\n",
    "violin.plot()\n",
    "decorate(xlabel='Time (sec)')"
   ]
  },
  {
   "cell_type": "code",
   "execution_count": null,
   "metadata": {
    "id": "I9lcCpMbrAs5"
   },
   "outputs": [],
   "source": [
    "spectrum = violin.make_spectrum()"
   ]
  },
  {
   "cell_type": "code",
   "execution_count": null,
   "metadata": {
    "id": "3QBoeoKgrDbj"
   },
   "outputs": [],
   "source": [
    "output = (spectrum * transfer).make_wave()\n",
    "output.normalize()"
   ]
  },
  {
   "cell_type": "code",
   "execution_count": null,
   "metadata": {
    "colab": {
     "base_uri": "https://localhost:8080/",
     "height": 265
    },
    "id": "8h-07VjBrKLL",
    "outputId": "104d6a7c-60ea-436c-a654-8d45cf30d9ef"
   },
   "outputs": [],
   "source": [
    "output.plot()"
   ]
  },
  {
   "cell_type": "code",
   "execution_count": null,
   "metadata": {
    "colab": {
     "base_uri": "https://localhost:8080/",
     "height": 74
    },
    "id": "S7WJwAQDrN4Y",
    "outputId": "68264c88-e983-4a7b-fc8f-760b38e68f37"
   },
   "outputs": [],
   "source": [
    "output.make_audio()"
   ]
  },
  {
   "cell_type": "code",
   "execution_count": null,
   "metadata": {
    "colab": {
     "base_uri": "https://localhost:8080/",
     "height": 268
    },
    "id": "oaQ-cyywrRpw",
    "outputId": "aebf2546-048e-42fc-bdc8-f88cf58768d2"
   },
   "outputs": [],
   "source": [
    "response.truncate(2**16)\n",
    "response.plot()"
   ]
  },
  {
   "cell_type": "code",
   "execution_count": null,
   "metadata": {
    "colab": {
     "base_uri": "https://localhost:8080/",
     "height": 265
    },
    "id": "mZtFnoV4rVtV",
    "outputId": "08c33c8b-f67e-4e05-8909-f84fb16ae02a"
   },
   "outputs": [],
   "source": [
    "violin.truncate(2**16)\n",
    "violin.plot()"
   ]
  },
  {
   "cell_type": "code",
   "execution_count": null,
   "metadata": {
    "id": "IR5OBCSbrX_K"
   },
   "outputs": [],
   "source": [
    "output2 = violin.convolve(response)"
   ]
  },
  {
   "cell_type": "code",
   "execution_count": null,
   "metadata": {
    "colab": {
     "base_uri": "https://localhost:8080/",
     "height": 265
    },
    "id": "fuwNIGvFrkXK",
    "outputId": "f46dbadb-06b4-4a26-b3b9-f321a167f76e"
   },
   "outputs": [],
   "source": [
    "output2.plot()"
   ]
  },
  {
   "cell_type": "code",
   "execution_count": null,
   "metadata": {
    "colab": {
     "base_uri": "https://localhost:8080/",
     "height": 74
    },
    "id": "juxvP1Tnrm1r",
    "outputId": "aae18885-8c5a-45aa-c658-11e99ed1cd44"
   },
   "outputs": [],
   "source": [
    "output2.make_audio()"
   ]
  },
  {
   "cell_type": "code",
   "execution_count": null,
   "metadata": {
    "colab": {
     "base_uri": "https://localhost:8080/"
    },
    "id": "nZ_5BMXbrv64",
    "outputId": "6810fd5f-77eb-45c0-c058-8b9515948955"
   },
   "outputs": [],
   "source": [
    "len(output), len(output2)"
   ]
  },
  {
   "cell_type": "code",
   "execution_count": null,
   "metadata": {
    "id": "_R0uN0uBr1EI"
   },
   "outputs": [],
   "source": [
    "from thinkdsp import Wave\n",
    "\n",
    "import scipy.signal\n",
    "ys = scipy.signal.fftconvolve(violin.ys, response.ys)\n",
    "output3 = Wave(ys, framerate=violin.framerate)"
   ]
  },
  {
   "cell_type": "code",
   "execution_count": null,
   "metadata": {
    "colab": {
     "base_uri": "https://localhost:8080/",
     "height": 265
    },
    "id": "g8VKGxVvr3-F",
    "outputId": "132bc5d3-dcd3-4c46-d31a-ec7a43bcd3c7"
   },
   "outputs": [],
   "source": [
    "output3.plot()"
   ]
  },
  {
   "cell_type": "code",
   "execution_count": null,
   "metadata": {
    "colab": {
     "base_uri": "https://localhost:8080/",
     "height": 74
    },
    "id": "0uRTE0hBr54P",
    "outputId": "3e7a0f1b-96df-4291-9731-6cd9f9626f65"
   },
   "outputs": [],
   "source": [
    "output3.make_audio()"
   ]
  },
  {
   "cell_type": "code",
   "execution_count": null,
   "metadata": {
    "colab": {
     "base_uri": "https://localhost:8080/"
    },
    "id": "gxTNbGmur8oL",
    "outputId": "9f5cf82f-bff6-4884-fd67-00d67e1c2e43"
   },
   "outputs": [],
   "source": [
    "output2.max_diff(output3)"
   ]
  },
  {
   "cell_type": "markdown",
   "metadata": {
    "id": "oPPUIhBWr_tU"
   },
   "source": [
    "Упражнение 2"
   ]
  },
  {
   "cell_type": "code",
   "execution_count": null,
   "metadata": {
    "colab": {
     "base_uri": "https://localhost:8080/",
     "height": 297
    },
    "id": "VCPGkZlCsP1x",
    "outputId": "7dd9456b-7b88-4dd8-82cc-5a56664a8cdd"
   },
   "outputs": [],
   "source": [
    "response = read_wave('E:\\wav\\code_stalbans_a_mono.wav')\n",
    "\n",
    "start = 0\n",
    "duration = 5\n",
    "response = response.segment(duration=duration)\n",
    "response.shift(-start)\n",
    "\n",
    "response.normalize()\n",
    "response.plot()\n",
    "decorate(xlabel='Time (sec)')"
   ]
  },
  {
   "cell_type": "code",
   "execution_count": null,
   "metadata": {
    "colab": {
     "base_uri": "https://localhost:8080/",
     "height": 74
    },
    "id": "xtTRDGzDsU0y",
    "outputId": "b48e2054-e3e9-4cf9-a480-95e2f2252713"
   },
   "outputs": [],
   "source": [
    "response.make_audio()"
   ]
  },
  {
   "cell_type": "code",
   "execution_count": null,
   "metadata": {
    "colab": {
     "base_uri": "https://localhost:8080/",
     "height": 297
    },
    "id": "AUSPM98nsWgl",
    "outputId": "be21f2bc-18d6-4a86-df21-268c5fcdd57b"
   },
   "outputs": [],
   "source": [
    "transfer = response.make_spectrum()\n",
    "transfer.plot()\n",
    "decorate(xlabel='Frequency (Hz)', ylabel='Amplitude')"
   ]
  },
  {
   "cell_type": "code",
   "execution_count": null,
   "metadata": {
    "colab": {
     "base_uri": "https://localhost:8080/",
     "height": 297
    },
    "id": "z-s4mE0hsYhs",
    "outputId": "96d62101-5627-40d3-88af-d6e0be44e8d3"
   },
   "outputs": [],
   "source": [
    "transfer.plot()\n",
    "decorate(xlabel='Frequency (Hz)', ylabel='Amplitude',\n",
    "         xscale='log', yscale='log')"
   ]
  },
  {
   "cell_type": "code",
   "execution_count": null,
   "metadata": {
    "colab": {
     "base_uri": "https://localhost:8080/",
     "height": 297
    },
    "id": "_Ig7hKqFsqQ6",
    "outputId": "f05ac22e-40e4-411e-87a1-0634d1ba4293"
   },
   "outputs": [],
   "source": [
    "wave = read_wave('E:\\wav\\code_170255__dublie__trumpet.wav')\n",
    "\n",
    "start = 0.0\n",
    "wave = wave.segment(start=start)\n",
    "wave.shift(-start)\n",
    "\n",
    "wave.truncate(len(response))\n",
    "wave.normalize()\n",
    "wave.plot()\n",
    "decorate(xlabel='Time (sec)')"
   ]
  },
  {
   "cell_type": "code",
   "execution_count": null,
   "metadata": {
    "colab": {
     "base_uri": "https://localhost:8080/",
     "height": 74
    },
    "id": "bDJJHIMdsvBz",
    "outputId": "9b34f733-8b0c-4f30-8632-940f8a5d09b5"
   },
   "outputs": [],
   "source": [
    "wave.make_audio()"
   ]
  },
  {
   "cell_type": "code",
   "execution_count": null,
   "metadata": {
    "id": "9kAW6k_Dsz3a"
   },
   "outputs": [],
   "source": [
    "spectrum = wave.make_spectrum()"
   ]
  },
  {
   "cell_type": "code",
   "execution_count": null,
   "metadata": {
    "colab": {
     "base_uri": "https://localhost:8080/"
    },
    "id": "p9P2Us_Hs288",
    "outputId": "b8bafa60-13b7-489f-90d4-c9d00e564072"
   },
   "outputs": [],
   "source": [
    "len(spectrum.hs), len(transfer.hs)"
   ]
  },
  {
   "cell_type": "code",
   "execution_count": null,
   "metadata": {
    "colab": {
     "base_uri": "https://localhost:8080/"
    },
    "id": "t54mEu0os49c",
    "outputId": "c297354f-ec5c-41bf-d9a4-94a2bcb51bfe"
   },
   "outputs": [],
   "source": [
    "spectrum.fs"
   ]
  },
  {
   "cell_type": "code",
   "execution_count": null,
   "metadata": {
    "colab": {
     "base_uri": "https://localhost:8080/"
    },
    "id": "9TOfsYnvs7lt",
    "outputId": "19436128-ba6f-487d-8951-7afda12db189"
   },
   "outputs": [],
   "source": [
    "transfer.fs"
   ]
  },
  {
   "cell_type": "code",
   "execution_count": null,
   "metadata": {
    "colab": {
     "base_uri": "https://localhost:8080/",
     "height": 265
    },
    "id": "gQ37k2KRs_ad",
    "outputId": "44721899-7ac1-49f5-e4b6-bf5f21697bd6"
   },
   "outputs": [],
   "source": [
    "wave.plot()"
   ]
  },
  {
   "cell_type": "code",
   "execution_count": null,
   "metadata": {
    "colab": {
     "base_uri": "https://localhost:8080/",
     "height": 265
    },
    "id": "_fUM7lxftCMH",
    "outputId": "19b2b250-5560-448c-8f8e-c677ce39ff8f"
   },
   "outputs": [],
   "source": [
    "output.plot()"
   ]
  },
  {
   "cell_type": "code",
   "execution_count": null,
   "metadata": {
    "colab": {
     "base_uri": "https://localhost:8080/",
     "height": 74
    },
    "id": "yac8BNdHtF1G",
    "outputId": "f5b18cf1-546e-4c00-e5f7-087693c0bcd2"
   },
   "outputs": [],
   "source": [
    "output.make_audio()"
   ]
  },
  {
   "cell_type": "code",
   "execution_count": null,
   "metadata": {
    "id": "SqcKtm7xtIdH"
   },
   "outputs": [],
   "source": [
    "convolved2 = wave.convolve(response)\n",
    "convolved2.normalize()\n",
    "convolved2.make_audio()"
   ]
  },
  {
   "cell_type": "markdown",
   "metadata": {
    "id": "dbu1ULs5iM6A"
   },
   "source": [
    "# Лабораторная работа 11. Модуляция и выборка"
   ]
  },
  {
   "cell_type": "code",
   "execution_count": null,
   "metadata": {
    "id": "9qefxX_RyX6Y",
    "scrolled": true
   },
   "outputs": [],
   "source": [
    "import os"
   ]
  },
  {
   "cell_type": "code",
   "execution_count": null,
   "metadata": {
    "id": "hKxKRjxtymUG"
   },
   "outputs": [],
   "source": [
    "import numpy as np\n",
    "import matplotlib.pyplot as plt\n",
    "\n",
    "from thinkdsp import decorate"
   ]
  },
  {
   "cell_type": "code",
   "execution_count": null,
   "metadata": {
    "colab": {
     "base_uri": "https://localhost:8080/",
     "height": 265
    },
    "id": "mhEoBNRJy-ba",
    "outputId": "d682359a-0e02-4efa-891b-5b6c6b2bd1f5"
   },
   "outputs": [],
   "source": [
    "from thinkdsp import read_wave\n",
    "\n",
    "wave = read_wave('E:\\wav\\code_263868__kevcio__amen-break-a-160-bpm.wav')\n",
    "wave.normalize()\n",
    "wave.plot()"
   ]
  },
  {
   "cell_type": "code",
   "execution_count": null,
   "metadata": {
    "colab": {
     "base_uri": "https://localhost:8080/",
     "height": 74
    },
    "id": "OtCwI3mZzCCK",
    "outputId": "4725a201-10b4-40c3-86f3-4cd75dca9c5c"
   },
   "outputs": [],
   "source": [
    "wave.make_audio()"
   ]
  },
  {
   "cell_type": "code",
   "execution_count": null,
   "metadata": {
    "colab": {
     "base_uri": "https://localhost:8080/",
     "height": 265
    },
    "id": "_k4WmIoJzF7q",
    "outputId": "56cfdd21-a81b-4879-ba55-41f087012e05"
   },
   "outputs": [],
   "source": [
    "spectrum = wave.make_spectrum(full=True)\n",
    "spectrum.plot()"
   ]
  },
  {
   "cell_type": "code",
   "execution_count": null,
   "metadata": {
    "id": "lEjZv2rEzI6y"
   },
   "outputs": [],
   "source": [
    "factor = 3\n",
    "framerate = wave.framerate / factor\n",
    "cutoff = framerate / 2 - 1"
   ]
  },
  {
   "cell_type": "code",
   "execution_count": null,
   "metadata": {
    "colab": {
     "base_uri": "https://localhost:8080/",
     "height": 265
    },
    "id": "ioWMR2e7zOEl",
    "outputId": "f589d8c8-b92f-43f1-d6f8-7e2222cf98af"
   },
   "outputs": [],
   "source": [
    "spectrum.low_pass(cutoff)\n",
    "spectrum.plot()"
   ]
  },
  {
   "cell_type": "markdown",
   "metadata": {
    "id": "8DuvD4JC0Gw5"
   },
   "source": [
    "Звук после фильтрации"
   ]
  },
  {
   "cell_type": "code",
   "execution_count": null,
   "metadata": {
    "colab": {
     "base_uri": "https://localhost:8080/",
     "height": 74
    },
    "id": "ke4h8RcPzT_e",
    "outputId": "e726901f-1010-4346-ef29-2d5bd2742341"
   },
   "outputs": [],
   "source": [
    "filtered = spectrum.make_wave()\n",
    "filtered.make_audio()"
   ]
  },
  {
   "cell_type": "code",
   "execution_count": null,
   "metadata": {
    "id": "lbDTyCNxzXeV"
   },
   "outputs": [],
   "source": [
    "from thinkdsp import Wave\n",
    "\n",
    "def sample(wave, factor):\n",
    "\n",
    "    ys = np.zeros(len(wave))\n",
    "    ys[::factor] = np.real(wave.ys[::factor])\n",
    "    return Wave(ys, framerate=wave.framerate)"
   ]
  },
  {
   "cell_type": "code",
   "execution_count": null,
   "metadata": {
    "colab": {
     "base_uri": "https://localhost:8080/",
     "height": 74
    },
    "id": "QXj1pc8-zkOm",
    "outputId": "44a400d5-2ea8-4328-d361-f7c514553442"
   },
   "outputs": [],
   "source": [
    "sampled = sample(filtered, factor)\n",
    "sampled.make_audio()"
   ]
  },
  {
   "cell_type": "code",
   "execution_count": null,
   "metadata": {
    "colab": {
     "base_uri": "https://localhost:8080/",
     "height": 266
    },
    "id": "hu15_1GcznTJ",
    "outputId": "d8cad6db-4d21-458b-bd4b-62fffebfa343"
   },
   "outputs": [],
   "source": [
    "sampled_spectrum = sampled.make_spectrum(full=True)\n",
    "sampled_spectrum.plot()"
   ]
  },
  {
   "cell_type": "code",
   "execution_count": null,
   "metadata": {
    "colab": {
     "base_uri": "https://localhost:8080/",
     "height": 266
    },
    "id": "3u3BSAXtzse9",
    "outputId": "97439213-fafb-4d5f-fc57-4c00edcaaddd"
   },
   "outputs": [],
   "source": [
    "sampled_spectrum.low_pass(cutoff)\n",
    "sampled_spectrum.plot()"
   ]
  },
  {
   "cell_type": "code",
   "execution_count": null,
   "metadata": {
    "colab": {
     "base_uri": "https://localhost:8080/",
     "height": 265
    },
    "id": "cB5rCo_rzvOb",
    "outputId": "d7e38217-79ae-4469-e05f-89d252670e3c"
   },
   "outputs": [],
   "source": [
    "sampled_spectrum.scale(factor)\n",
    "spectrum.plot()\n",
    "sampled_spectrum.plot()"
   ]
  },
  {
   "cell_type": "code",
   "execution_count": null,
   "metadata": {
    "colab": {
     "base_uri": "https://localhost:8080/"
    },
    "id": "vJlQvcGFzx2b",
    "outputId": "6af60b48-ad58-4ebb-fa5d-43add717e7ce"
   },
   "outputs": [],
   "source": [
    "spectrum.max_diff(sampled_spectrum)"
   ]
  },
  {
   "cell_type": "code",
   "execution_count": null,
   "metadata": {
    "colab": {
     "base_uri": "https://localhost:8080/",
     "height": 74
    },
    "id": "2LSaiNEYz1-K",
    "outputId": "cc3d1b5e-1075-4824-b60e-1801207e890f"
   },
   "outputs": [],
   "source": [
    "interpolated = sampled_spectrum.make_wave()\n",
    "interpolated.make_audio()"
   ]
  },
  {
   "cell_type": "code",
   "execution_count": null,
   "metadata": {
    "colab": {
     "base_uri": "https://localhost:8080/",
     "height": 265
    },
    "id": "D8KkYfgpz4M1",
    "outputId": "bc96d205-90d2-4b59-caff-60a43cda00eb"
   },
   "outputs": [],
   "source": [
    "filtered.plot()\n",
    "interpolated.plot()"
   ]
  },
  {
   "cell_type": "code",
   "execution_count": null,
   "metadata": {
    "colab": {
     "base_uri": "https://localhost:8080/"
    },
    "id": "shwme-Wez6Gz",
    "outputId": "ff717d9a-3463-46e6-ebe9-feecce13741f"
   },
   "outputs": [],
   "source": [
    "filtered.max_diff(interpolated)"
   ]
  }
 ],
 "metadata": {
  "colab": {
   "provenance": [],
   "toc_visible": true
  },
  "kernelspec": {
   "display_name": "Python 3 (ipykernel)",
   "language": "python",
   "name": "python3"
  },
  "language_info": {
   "codemirror_mode": {
    "name": "ipython",
    "version": 3
   },
   "file_extension": ".py",
   "mimetype": "text/x-python",
   "name": "python",
   "nbconvert_exporter": "python",
   "pygments_lexer": "ipython3",
   "version": "3.12.7"
  },
  "widgets": {
   "application/vnd.jupyter.widget-state+json": {
    "0328f270ef6a4ba1bd378bcefa25d00b": {
     "model_module": "@jupyter-widgets/base",
     "model_module_version": "1.2.0",
     "model_name": "LayoutModel",
     "state": {
      "_model_module": "@jupyter-widgets/base",
      "_model_module_version": "1.2.0",
      "_model_name": "LayoutModel",
      "_view_count": null,
      "_view_module": "@jupyter-widgets/base",
      "_view_module_version": "1.2.0",
      "_view_name": "LayoutView",
      "align_content": null,
      "align_items": null,
      "align_self": null,
      "border": null,
      "bottom": null,
      "display": null,
      "flex": null,
      "flex_flow": null,
      "grid_area": null,
      "grid_auto_columns": null,
      "grid_auto_flow": null,
      "grid_auto_rows": null,
      "grid_column": null,
      "grid_gap": null,
      "grid_row": null,
      "grid_template_areas": null,
      "grid_template_columns": null,
      "grid_template_rows": null,
      "height": null,
      "justify_content": null,
      "justify_items": null,
      "left": null,
      "margin": null,
      "max_height": null,
      "max_width": null,
      "min_height": null,
      "min_width": null,
      "object_fit": null,
      "object_position": null,
      "order": null,
      "overflow": null,
      "overflow_x": null,
      "overflow_y": null,
      "padding": null,
      "right": null,
      "top": null,
      "visibility": null,
      "width": null
     }
    },
    "3319d748f00d41fa96c09ec6bf58a822": {
     "model_module": "@jupyter-widgets/base",
     "model_module_version": "1.2.0",
     "model_name": "LayoutModel",
     "state": {
      "_model_module": "@jupyter-widgets/base",
      "_model_module_version": "1.2.0",
      "_model_name": "LayoutModel",
      "_view_count": null,
      "_view_module": "@jupyter-widgets/base",
      "_view_module_version": "1.2.0",
      "_view_name": "LayoutView",
      "align_content": null,
      "align_items": null,
      "align_self": null,
      "border": null,
      "bottom": null,
      "display": null,
      "flex": null,
      "flex_flow": null,
      "grid_area": null,
      "grid_auto_columns": null,
      "grid_auto_flow": null,
      "grid_auto_rows": null,
      "grid_column": null,
      "grid_gap": null,
      "grid_row": null,
      "grid_template_areas": null,
      "grid_template_columns": null,
      "grid_template_rows": null,
      "height": null,
      "justify_content": null,
      "justify_items": null,
      "left": null,
      "margin": null,
      "max_height": null,
      "max_width": null,
      "min_height": null,
      "min_width": null,
      "object_fit": null,
      "object_position": null,
      "order": null,
      "overflow": null,
      "overflow_x": null,
      "overflow_y": null,
      "padding": null,
      "right": null,
      "top": null,
      "visibility": null,
      "width": null
     }
    },
    "3404f792e53f433492ea8c1710f33d45": {
     "model_module": "@jupyter-widgets/controls",
     "model_module_version": "1.5.0",
     "model_name": "FloatSliderModel",
     "state": {
      "_dom_classes": [],
      "_model_module": "@jupyter-widgets/controls",
      "_model_module_version": "1.5.0",
      "_model_name": "FloatSliderModel",
      "_view_count": null,
      "_view_module": "@jupyter-widgets/controls",
      "_view_module_version": "1.5.0",
      "_view_name": "FloatSliderView",
      "continuous_update": true,
      "description": "start",
      "description_tooltip": null,
      "disabled": false,
      "layout": "IPY_MODEL_c2badfe80a09452ca114f0c54a635a70",
      "max": 5,
      "min": 0,
      "orientation": "horizontal",
      "readout": true,
      "readout_format": ".2f",
      "step": 0.1,
      "style": "IPY_MODEL_45dab95b00bc4c9bbe0519a47510faf0",
      "value": 2.3
     }
    },
    "44b140c07962433eac815d6c1b58dcf4": {
     "model_module": "@jupyter-widgets/controls",
     "model_module_version": "1.5.0",
     "model_name": "SliderStyleModel",
     "state": {
      "_model_module": "@jupyter-widgets/controls",
      "_model_module_version": "1.5.0",
      "_model_name": "SliderStyleModel",
      "_view_count": null,
      "_view_module": "@jupyter-widgets/base",
      "_view_module_version": "1.2.0",
      "_view_name": "StyleView",
      "description_width": "",
      "handle_color": null
     }
    },
    "45dab95b00bc4c9bbe0519a47510faf0": {
     "model_module": "@jupyter-widgets/controls",
     "model_module_version": "1.5.0",
     "model_name": "SliderStyleModel",
     "state": {
      "_model_module": "@jupyter-widgets/controls",
      "_model_module_version": "1.5.0",
      "_model_name": "SliderStyleModel",
      "_view_count": null,
      "_view_module": "@jupyter-widgets/base",
      "_view_module_version": "1.2.0",
      "_view_name": "StyleView",
      "description_width": "",
      "handle_color": null
     }
    },
    "7933f622aa7748198a59af746c2993af": {
     "model_module": "@jupyter-widgets/controls",
     "model_module_version": "1.5.0",
     "model_name": "IntSliderModel",
     "state": {
      "_dom_classes": [],
      "_model_module": "@jupyter-widgets/controls",
      "_model_module_version": "1.5.0",
      "_model_name": "IntSliderModel",
      "_view_count": null,
      "_view_module": "@jupyter-widgets/controls",
      "_view_module_version": "1.5.0",
      "_view_name": "IntSliderView",
      "continuous_update": true,
      "description": "cutoff",
      "description_tooltip": null,
      "disabled": false,
      "layout": "IPY_MODEL_d872bdf9204649caa296629b7f4df77c",
      "max": 5000,
      "min": 0,
      "orientation": "horizontal",
      "readout": true,
      "readout_format": "d",
      "step": 100,
      "style": "IPY_MODEL_ac986f568c494c82aee8495160fb5d1b",
      "value": 2500
     }
    },
    "a107284bbbed489bb1bfaae965e39b4e": {
     "model_module": "@jupyter-widgets/base",
     "model_module_version": "1.2.0",
     "model_name": "LayoutModel",
     "state": {
      "_model_module": "@jupyter-widgets/base",
      "_model_module_version": "1.2.0",
      "_model_name": "LayoutModel",
      "_view_count": null,
      "_view_module": "@jupyter-widgets/base",
      "_view_module_version": "1.2.0",
      "_view_name": "LayoutView",
      "align_content": null,
      "align_items": null,
      "align_self": null,
      "border": null,
      "bottom": null,
      "display": null,
      "flex": null,
      "flex_flow": null,
      "grid_area": null,
      "grid_auto_columns": null,
      "grid_auto_flow": null,
      "grid_auto_rows": null,
      "grid_column": null,
      "grid_gap": null,
      "grid_row": null,
      "grid_template_areas": null,
      "grid_template_columns": null,
      "grid_template_rows": null,
      "height": null,
      "justify_content": null,
      "justify_items": null,
      "left": null,
      "margin": null,
      "max_height": null,
      "max_width": null,
      "min_height": null,
      "min_width": null,
      "object_fit": null,
      "object_position": null,
      "order": null,
      "overflow": null,
      "overflow_x": null,
      "overflow_y": null,
      "padding": null,
      "right": null,
      "top": null,
      "visibility": null,
      "width": null
     }
    },
    "ac986f568c494c82aee8495160fb5d1b": {
     "model_module": "@jupyter-widgets/controls",
     "model_module_version": "1.5.0",
     "model_name": "SliderStyleModel",
     "state": {
      "_model_module": "@jupyter-widgets/controls",
      "_model_module_version": "1.5.0",
      "_model_name": "SliderStyleModel",
      "_view_count": null,
      "_view_module": "@jupyter-widgets/base",
      "_view_module_version": "1.2.0",
      "_view_name": "StyleView",
      "description_width": "",
      "handle_color": null
     }
    },
    "c2badfe80a09452ca114f0c54a635a70": {
     "model_module": "@jupyter-widgets/base",
     "model_module_version": "1.2.0",
     "model_name": "LayoutModel",
     "state": {
      "_model_module": "@jupyter-widgets/base",
      "_model_module_version": "1.2.0",
      "_model_name": "LayoutModel",
      "_view_count": null,
      "_view_module": "@jupyter-widgets/base",
      "_view_module_version": "1.2.0",
      "_view_name": "LayoutView",
      "align_content": null,
      "align_items": null,
      "align_self": null,
      "border": null,
      "bottom": null,
      "display": null,
      "flex": null,
      "flex_flow": null,
      "grid_area": null,
      "grid_auto_columns": null,
      "grid_auto_flow": null,
      "grid_auto_rows": null,
      "grid_column": null,
      "grid_gap": null,
      "grid_row": null,
      "grid_template_areas": null,
      "grid_template_columns": null,
      "grid_template_rows": null,
      "height": null,
      "justify_content": null,
      "justify_items": null,
      "left": null,
      "margin": null,
      "max_height": null,
      "max_width": null,
      "min_height": null,
      "min_width": null,
      "object_fit": null,
      "object_position": null,
      "order": null,
      "overflow": null,
      "overflow_x": null,
      "overflow_y": null,
      "padding": null,
      "right": null,
      "top": null,
      "visibility": null,
      "width": null
     }
    },
    "c7de73cc6ba74931bee463e5b3282f23": {
     "model_module": "@jupyter-widgets/output",
     "model_module_version": "1.0.0",
     "model_name": "OutputModel",
     "state": {
      "_dom_classes": [],
      "_model_module": "@jupyter-widgets/output",
      "_model_module_version": "1.0.0",
      "_model_name": "OutputModel",
      "_view_count": null,
      "_view_module": "@jupyter-widgets/output",
      "_view_module_version": "1.0.0",
      "_view_name": "OutputView",
      "layout": "IPY_MODEL_3319d748f00d41fa96c09ec6bf58a822",
      "msg_id": "",
      "outputs": [
       {
        "data": {
         "text/html": "\n                <audio controls=\"controls\" >\n                    <source src=\"data:audio/wav;base64,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\" type=\"audio/wav\" />\n                    Your browser does not support the audio element.\n                </audio>\n              ",
         "text/plain": "<IPython.lib.display.Audio object>"
        },
        "metadata": {},
        "output_type": "display_data"
       },
       {
        "data": {
         "image/png": "iVBORw0KGgoAAAANSUhEUgAAAagAAAEYCAYAAAAJeGK1AAAABHNCSVQICAgIfAhkiAAAAAlwSFlzAAALEgAACxIB0t1+/AAAADh0RVh0U29mdHdhcmUAbWF0cGxvdGxpYiB2ZXJzaW9uMy4yLjIsIGh0dHA6Ly9tYXRwbG90bGliLm9yZy+WH4yJAAAgAElEQVR4nO3deZwU5Z3H8c9vbhDkHAmHgol4sGsQF4m3Ro3rFTW7HmwwUULWHOrGmNU10ZhoNMZkg8fGxRDFgEcQMQqOsoKAICDHcJ8Dw81wzAAzwzF397N/VNH0XMwwB13T/X2/XvOaqqeqq596oOfbVfXUU+acQ0REJGiSYl0BERGRuiigREQkkBRQIiISSAooEREJJAWUiIgEUkqsKwDQvXt3169fv1hXQ0REYmDx4sV7nXOZNcsDEVD9+vUjOzs71tUQEZEYMLOtdZXrFJ+IiASSAkpERAJJASUiIoGkgBIRkUBSQImISCApoEREJJAUUCIiEkgKKBERCaS4C6gJs5fx+tSFsa6GiIg0UyBGkmhJw/48A4Dh1w6JcU1ERKQ54u4ISkRE4oMCSkREAkkBJSIigaSAEhGRQFJAiYhIICmgREQkkBRQIiISSAooEREJJAWUiIgEkgJKREQCSQElIiKBpIASEZFAUkCJiEggKaBERCSQFFAiIhJICigREQmkRgeUmSWb2VIzy/LnTzezBWaWa2bvmFmaX57uz+f6y/u1TtVFRCSeHc8R1E+AtVHzzwHPO+fOAAqBEX75CKDQL3/eX09EROS4NCqgzKwPcCPwqj9vwFXARH+VscCt/vQt/jz+8qv99UVERBqtsUdQLwCPAGF/vhtQ5Jyr8ud3AL396d7AdgB/ebG/voiISKM1GFBmdhOQ75xb3JJvbGb3mlm2mWUXFBS05KZFRCQONOYI6hLgZjPbAozHO7X3ItDZzFL8dfoAef50HnAqgL+8E7Cv5kadc6Odc4Odc4MzMzObtRMiIhJ/Ggwo59zPnXN9nHP9gKHADOfcMGAmcJu/2t3AJH96sj+Pv3yGc861aK1FRCTuNec+qP8CHjKzXLxrTK/55a8B3fzyh4BHm1dFERFJRCkNr3KUc+4z4DN/ehMwpI51yoDbW6BuIiKSwDSShIiIBJICSkREAimuAmpP4YFYV0FERFpIXAXU+f81tuGVRESkTYirgMo/XBnrKoiISAuJq4ASEZH4oYASEZFAUkCJiEggKaBERCSQFFAiIhJICigREQkkBZSIiARS3AbU13/511hXQUREmiFuA2rOpv2xroKIiDRD3AYUwPaCwlhXQUREmiiuA+rVqdmxroKIiDRRXAfUgtzdpA4byeZd+2JdFREROU5xHVDT1xcAMGVxToxrIiIixyuuA0pERNquhAiosHOxroKIiBynhAion45fEOsqiIjIcUqIgBIRkbZHASUiIoGkgBIRkUBSQImISCApoEREJJAUUCIiEkgKKBERCSQFlIiIBJICSkREAkkBJSIigaSAEhGRQFJAiYhIICmgREQkkBRQIiISSAooEREJJAWUiIgEkgJKREQCSQElIiKBpIASEZFAajCgzCzDzBaa2XIzW21mT/rlp5vZAjPLNbN3zCzNL0/353P95f1adxdERCQeNeYIqhy4yjk3EDgPuM7MLgSeA553zp0BFAIj/PVHAIV++fP+eiIiIselwYBynkP+bKr/44CrgIl++VjgVn/6Fn8ef/nVZmYtVmMREUkIjboGZWbJZrYMyAemARuBIudclb/KDqC3P90b2A7gLy8GutWxzXvNLNvMsgsKCpq3FyIiEncaFVDOuZBz7jygDzAEOLu5b+ycG+2cG+ycG5yZmdnczYmISJw5rl58zrkiYCZwEdDZzFL8RX2APH86DzgVwF/eCdjXIrUVEZGE0ZhefJlm1tmfbgd8A1iLF1S3+avdDUzypyf78/jLZzjnXEtWWkRE4l9Kw6vQExhrZsl4gTbBOZdlZmuA8Wb2NLAUeM1f/zXgDTPLBfYDQ1uh3iIiEucaDCjn3ApgUB3lm/CuR9UsLwNub5HaiYhIwtJIEiIiEkgKKBERCSQFlIiIBJICSkREAkkBJSIigaSAEhGRQFJAiYhIICmgREQkkBRQIiISSAooEREJJAWUiIgEUsIEVNGhklhXQUREjkPCBNQv35oe6yqIiMhxSJiACoXCsa6CiIgch4QJKBERaVsSJqAmLt5KOKyjKBGRtiJhAqqwrIo/T1kQ62qIiEgjJUxAARQfLot1FUREpJESKqBERKTtUECJiEggKaBERCSQFFAiIhJICigREQkkBZSIiARSQgWUWaxrICIijZVQASUiIm1HQgWUc7GugYiINFZCBVS0eWs2M2bqwlhXQ0RE6pES6wrEyhXPvA/APdcMJikpYXNaRCSwEuov87Kt+fzL7/5W7dlQ6/MKYlgjERGpT0IdQb23LA+ATbv3xbgmIiLSkIQ6ghIRkbZDASUiIoGUkAHl1N9cRCTwEjKgREQk+BIyoM599M1YV0FERBqQkAEV1hk+EZHAS8iAEhGR4FNAiYhIIDUYUGZ2qpnNNLM1ZrbazH7il3c1s2lmtsH/3cUvNzN7ycxyzWyFmZ3f2jshIiLxpzFHUFXAz5xzA4ALgfvMbADwKDDdOdcfmO7PA1wP9Pd/7gVGtXitRUQk7jUYUM65Xc65Jf70QWAt0Bu4BRjrrzYWuNWfvgUY5zzzgc5m1rPFay4iInHtuK5BmVk/YBCwAOjhnNvlL9oN9PCnewPbo162wy+rua17zSzbzLILCjRgq4iIVNfogDKzDsB7wIPOuQPRy5w3NMNxdd52zo12zg12zg3OzMw8npe2qqJDJWzQCOciIjHXqIAys1S8cHrLOfd3v3jPkVN3/u98vzwPODXq5X38skDasmd/tfmLHxvHgEfeiFFtRETkiMb04jPgNWCtc25k1KLJwN3+9N3ApKjy7/q9+S4EiqNOBQbO7NVbAThYUkbqsJFs2FsS4xqJiAg07nlQlwDfAVaa2TK/7BfA74AJZjYC2Arc4S/7GLgByAVKgOEtWuMWZwBsrXEkJSIisdVgQDnn5nDkr3htV9exvgPua2a9Trh567bFugoiIhJFI0n4fTvue3NejOshIiLREj6gwno2lIhIICV8QCVZfWcvRUQklhI+oOq/vCYiIrGkgKrn/uJ9Bw6f4HqIiEg0BVQ9XvpQnSZERGIp4QNKnSRERIIp4QNKRESCKeEDSr34RESCKeED6g9T17Brf3GsqyEiIjUkfEABvDJlYa0yp2tTIiIxpYASEZFAUkCJiEggxU1AhcPhJr9Wp/NERIInbgKqsirU5NdOW7W9VtneA6XNqY6IiDRT3ARUc2RvVy8+EZGgiZuAOlBSHusqiIhIC4qbgJq/bmvLblD374qIxFTcBJSIiMSXuAko9cQTEYkvcRNQIiISX+ImoHT8JCISX+ImoJZs2hXrKoiISAuKm4D67ccrW3aDOiQTEYmpuAmolrZix75YV0FEJKEpoOqxYGtRrKsgIpLQFFCNUFJWTkVlVayrISKSUBRQjdBpxMtc+PPXY10NEZGEooBqpJW7Dsa6CiIiCUUBJSIigaSAOoaVm3fGugoiIglLAXUM5z8+PtZVEBFJWAooEREJJAWUiIgEkgJKREQCSQElIiKBpIBqwHVPvhHrKoiIJCQFVAOmry+IdRVERBKSAuo4vPbJwlhXQUQkYSigjsPTkxbFugoiIgmjwYAyszFmlm9mq6LKuprZNDPb4P/u4pebmb1kZrlmtsLMzm/Nyp9oTg8xFBE5YRpzBPVX4LoaZY8C051z/YHp/jzA9UB//+deYFTLVDP4Jn2xirP/YxShUDjWVRERiQsNBpRzbjawv0bxLcBYf3oscGtU+TjnmQ90NrOeLVXZILvtT1PZuK+UN2YsjnVVRETiQlOvQfVwzu3yp3cDPfzp3sD2qPV2+GW1mNm9ZpZtZtkFBW2np1x5RSXz1myuf3ll6ATWRkQkfjW7k4RzzgHHfXXGOTfaOTfYOTc4MzOzudU4IRyOH46azBXPvM+yjTsi5VWho6EU1oUqEZEWkdLE1+0xs57OuV3+Kbx8vzwPODVqvT5+WVxwDmas8w4cF+fupLIqTP/e3TnrwVdjXDMRkfjT1ICaDNwN/M7/PSmq/H4zGw98DSiOOhXY5u06WBGZ/uG4OQCc3+dk9pdWRcqdjqBERFpEgwFlZn8DrgS6m9kO4Fd4wTTBzEYAW4E7/NU/Bm4AcoESYHgr1DlQluUdqDa/u+hQnesdLi2nKhym00ntTkS1RETavAYDyjn3b/UsurqOdR1wX3Mr1ZbUPGB6dsoqnrrr2lrr9f/JaAoOV1L51kMnqGYiIm2bRpJopsae0Cs4XNmq9RARiTcKKBERCSQFlIiIBJICqhXMXrmRNzWihIhIszS1m7kcw9W/83rd33XVP8W4JiIibZeOoEREJJAUUCIiEkgKqDjx7ISZvPDB57GuhohIi1FAnWBrt+2uVbZs4w5+PGoS4XDTnyX1xKSlPPyunvgrIvFDAXWC7T1wuFbZzX/4gL/M2cjGXftiUCMRkWBSQJ0A0U/ZTUmq3eSVIQ0wKyJSkwLqBHhg9IeR6Vc/XVpr+YHyqlplIiKJTgHVinbuK2b0lPlMW330kVjjFmwhN6/6E4QrdAQlIlKLAqoVffPZCdz35jz2l1QfKPael48eUdXVaeJ4rd+R3/BKIiJtjAKqFe06UAZAVbj6EdKCrUWR6Rt+916z3+epCbOavY1oz707k+Ub4+ZByCLSRimgToCSyvq7j+8oLq9/WUERT779KcWHS7nz9++wt7j2wxA/mLeSdxZvb3YdKyqr+HD+atZt38PjHyzlit+82+xtiog0h8biC7A7R/6dhduKWLx5D1PW7OHkcdP4ywPfiiz/YN5Kbn95Wou818/GTOGV2Rsi84ePEaoiIieCjqBaUWFp8x5SWFxaAUDBQe9UoavxeMQd+w7Uek3WgtVNeq/l2/Y26XUiIq1FAdWKqho4CHlm/PQGtmAAZG8vBmo/Xj6/uPZNv3WVNUZhSUWTXtdYoVCYiXOWN2u0DBFJLAqoGHlkzBR+/eHyamUbdzX+KKboUAnPTllVq/zVGSsZ8sirx12fdflNC7bGevqdGfzbqOm8Pi27Vd9HROKHAipGnp++tlbZvHXVOzvkFFQPjegDqJLyuk8fLtpezNK82qf+Ym3jHq/n4taCogbWFBHxKKACpKIqxLQlOfUuD4XDVIVCLFi7hfU7CupdL9p7c1ZwsKSM9LtGMvzF6l3aJ32xigse/gsVlXWPZDFm6kK6j3iRkrLyaq9JHTaSpbk7GvX+R5h3tpKqkE7xiUjjKKAC5I/T1nLDHz/iiTenVguFI95etI12332RS5/+O9/4/eRjbmtHQRHLNu5g6KhPGfb8e4QdvLlwa7V1bvvTVJbtPEje3uI6t/H4xAUUl4X4xbijPQXHzVoJwH+MOb7eg+ZfT/vD1DUAbNxZ0OTrUWUVlbw+dWGTXisibYcCKoCenbKKTiNebtY2Tn9wDPlF3inCTQUHI+V13UuVlGR1bqPgsHca8eVZ63lvzgrC4TCTV+4CYP7Wwmrrbtm9j8t+8ToFRYdYtnEHh0qPBuyyjTtYvPXo9bXPV23k7Iff4OdjPwFg9/4DrNu+p9H7dv+fP+TesXN4f+7KRr9GRNoe3QcVx24c+REAew4eDYsfjspi6KXncM15/SNl9QVUtDdmr+KZDxZUK9uyex9TFq/nRzdexONvz2D+1kKeGj+DVz7P5ZLTu/C9K8+lXXoq336lem/Fq56dBMCHy7byHHDWQ2MoqQxT9Op9nNQuvcG67NjvBW9TeyyKSNuggEoARWWhyPSklTuZtHInN5+7JlK2txF/6D9aXXvMwP4/GwvATUPOjoxm8crnuQDM3VzI3M2zj7nNQn+MwiMjbfT4wf9y81d7UxV2jHngVjrUCKvXpy7kS106Mn29d/0tXLPfvYjEFQVUgjpyqg5gyK8mNGtbr0xp2vWgvTUG0S0POd5d6nW+6P76//H1c/vx7Vems+ipO+h28kncO3ZOtfV/Mymb9xdu4OMnhpGSnNy0yotIYCVEQCUZhPVlu9X8/pOmjV4B3v1gdTlYVsl9Y71BcC94ou4ALThcyczcvWzPL+L0nt0i5X/6cC6XnNOXQWf0IRQK88yEGfTs0hHnHPdef2GT6yoiJ1ZCdJIoGftgrKsg9ajrfjCAwsNlFJY27kGOA3/+Bt/+4wS27N4HwE/HL+Br/lHhuOnZ/CZrBT9+Yy73vTmvZSotIidE3AfUOaecRHJy/bt5/YAe/Ojy/vUul9hYuGV/o9ctrQzz7pId9P/ZWJZt9E4ROrxOHLPWVL/5ufBgSUtWU0RaUdwFVOVbD1H51kONXv/dh+/gpR98sxVrJE1R2cRzstGnA6cu3cBbi6rf+/XhgjWREBORYIu7gKrPWZntOa1zBhufH86Ii78cKU9PS41hraQ+hypCDa/UgP0HS2uVjXh9Nhc8MYF3P19O6rCRkXupKiqreGTMlGr3b9X0s9c+ouvwF5m1IpdFOduaXT8RObaE6CQBsOqFH0amT0pXKCWCX05aWu+yI/dm3fG/06i85Fy+8es3mLelkEPlFdx8wZlcNbA/aanex6Oisopt+YW8NMMbhuqa57xRPA69/gAb8gr4x9N71dp+KBTGDJKSEuY7oEiLi9tPz5F7T1+65+pay87o2fUE10aCbt4Wb2SMD5Zu45vPT+GB0Vlsy/fK7nnp75zzyBu1XtNh+P8w6PHxrNnq3SN2ZHiqwoMlZHz3Ba7+1bgTVPuWUV5eTlVV4zqmSGLbuXMnBw8ebHjFZorbgEr1E2rQGb1rLfvB9V+rd/2GrPvDd5pXMQmc7iNejEwfGd5pzLxNfOWnr5M6bCTvLjn2NauBv3ib1GEj6TTiZfrf/7/k7fVGbJ+z6dgdPfYWH6Lr8BdrPWSytLSUoqKjo74XFhZy8OBBKiub9wDMYwmFQkybNo1p06qPsbh79242btxYbb6srKzV6hF0zjlcgG4Q37ZtWyQoqqqqKC6ue1zN5iopKSEnJyey70uWLGHWrFmt8l7R4iKg6hp09M0fXsPlX+lGxzqGzqnrtMvy393FsAv6NvheX+pyctMqKYFVXNb8611HbCksY9Dj4yPzqcNGkjpsZJ0jxs9auYmDFSGeeu+LSFkoFGL69OnMmTOHdevWUVBQwNy5c5k1axaffPIJWVlZrF7tBVpRURFFRUU458jNzaWoqIiZM2dSUlJCVlYWU6bUvsesqKgo8nkJh8ORPzi7d++OvL9zjr1795KTk0N2djZr164lKyuLgoICsrOzmTev/u765eXlgfoD3hz5+fm1vhR8/PHHzJlT/Ybxw4frHoklOszy8vLYt28f4XCYvXv3sn9/7S8vK1asICsrK/Lvk5OTw9693hiW0X/jnHORI90VK1ZEgmLJkiV8/vnnHDrkjbe5aNEisrKyWLx4MVlZWZFtOefYuXPnMf+dtm7dSl5eHgAVFRXMmDGDDRs2sHv3bpYuPXrqfO7cufVuoyXExTWo5Zt21iq79eJzufXicxu9jf69M7liwKm1en3VFB8fPTnRTrrnpWrzlW89xNBRnwKwNO8Ahw4dYunSpdW+Aefm5pKbm1trW5s3b2bz5s2R+fbt21NScrT7/IwZMwAvbHJycujSpQuZmZksX76cHTu8o8EBAwawZs3R4a4yMjIi059//jkHDtR+ptiCBd5YjCUlJYTDYcyMvLw8evXqRVJSEps2bWLNmjV07tyZoqIiBg4cSIcOHTAz8vPzOfPMMyPb2rZtG5mZmbRr164Rrdc8zjm2bdtGWloaHTp0ICUlhXbt2rF3717mz5/PZZddRqdOnXDO8dFHH9GrVy927jz6N+XGG2/ks88+o3v37jjnKC4uZt++fXTu3JnNmzezbt06OnXqRHFxMV27dmXgwIG0b9+ejz76iK5du5KRkVFte0dccMEF9OjRgxUrVrBt29FON+vXr6ekpISdO3eyYcMGrrrqqsi/abTrrrsuMp2dnU1+fj4An332WbX1du3yB3ieP5+LLrqIL77wvhD17duXlJQUTjnlFLp1825037x5Mzk5OZEAPHz4MOvXr49sa/HixdW2XVhYfdDolmZB+LYzePBgl53d9CetLsrZxsVPTQRodBfzv/zfAgZ9uSeDzzwtUrZ51z7O/M+xx3xd4av30eX7zRtpXKSmvw/tj1njTjMHhZlFvoWnp6dTXl5/D8gj+vfvz+7duyOnpfr378+GDRu4/vrrSY4arqqsrIykpCTS0tJwzrFo0SLS0tIYOHBgtXYKh8OsWrWKM888k9LSUjIyMkhLS2P16tXV/uhLwy699NJaR4eNcdNNNzX7vc1ssXNucM3yuDiCck04rvn362pfh2rIRf260D49lc4ZydUGYBVproKSKk45qW31Lo3+ctuYcALYsGFDnfN1nY4EOP/881m2bFnkFNeuXbsIhbzP3g033BAJIoVR8zUlnFpbq1yDMrPrzCzHzHLN7NHWeI9oroUG2julc4djLp/9zHDvVMb//IA+nY79WIjoe61EGlIRiv2ZjCBasmRJtesvR8IJvOtBW7ce+5S8tG0tHlBmlgy8DFwPDAD+zcwGtPT7RKv0HyN+9ZmZzdrOSe3S6zxFeFZme8Z+/8rIfMf2GZyUVv3gc8nTQ6vN/2H4dRx6/QF+/c2BADx1y6B63/cr3eo+D9+389HrAg9fO4DXhl/e4D7U9NcRVzR63Ya+wR+ro+Mf7xxS77JBvZvesSQtuW2d9mqqI/+HReSo1jjFNwTIdc5tAjCz8cAtwJpjvqoZOrRLY/CpnXjopvr/SB6PzS98jwMlZfTqdjJP/m0GD//LZfTq1qnaOqd2bU9Ogdd755F//gfOPb0Xy3/7bUZ/kg3mhRjAY0Ov5rGhV1NSVs5b83L47Z2X8quJ8zhYVsXIuy5n/c59/OvF/8iBkjKWb97Fr99fwPaicoZfdDqP33ElV/z6bXYUl/P0d65l655CwHvG0qzHvsWFZ/flx6Mm89q8TXXux9wn/pUhZ/Xlnte8Xj7THrmZx9+ZzVUD+jB99Q4WbiuiW/tU9pVU0qdTOgt/eze97hvNrMe+xRXPvE+njGTGfP9qKkIhNu8p4tJzTuPyZ97nB5edwZ/95z798c4hjJ6xmvtvuphR01fRr9tJ5Ow5wOT//BaDHh/Pb24ZxKN3fJ3vPj+RsHO8+dDtHCwp42BpOZc+8Sbbi8r55rk9efy2y3jhw/lMWLyN939yPSXllfzrpV9lQ14BA/x7kCbefy3/2LcHX+pyMp1rXAcsfPU+HhidxZsLt/LyXRdHBoY9+5STWJffuAcbdslIobDMuzj8jbNOYVpOfmRZerJR3opHOeOW7aVjuh4ZIm1Ln8wuNP8KVP1avJOEmd0GXOec+74//x3ga865+2usdy9wL8Bpp532T23tUL3oUAnvz1vF8GtbJhSPKD5cysGScvpkdq5z+bhPswmFw9Xed/IXq7hu8NlMnLOC9xeu593/Glrna+uzdc9+Ts3s3KhRD+as2sSF5/RlyqJ1fKVnNwb0/VK965ZVVJKWktwqoym8PXMJ2/cW86UuHTktsxNfH+gN+FtSVk77jHSKD5eSkZpCeloq2eu3UVkVYshZfZmSvZYLz+5L904dKD5cynMTZ9GjcwduHnJO5JEd4XCYpKQk9hQeYPaqzZzWvRMXnHUas1Zu5P+W5PLR8m1cdU4vnvz21bRLTyU1OTkyIPGGvAJ+9beZJCUZD918EZt372f0p8sACDlH1mPfZvL81XRsl86oqUu4++vnMfTlT+jZMZV2Ge0wM0KhkHdayyA5KZmk5CTMDMPvYhwKUVVZSXp6OqFQiMqqKtLS0sBBOBwiJSWVqqoqzMA5SE1NobS0jLAL0z6q15xz3vYsyaiqqiI5OZkkM8JhR3l5ORkZ6SQnJ+Oco6KigtTUVJKSkigtLSMlJYVQKERKagoV5RWkpqWSnJRMZWUFlVVVtMvIoKKiklA4RGpKKmnpaZSWlJKUlIQlGUlJSZHrVu0yvDpVVFYQCoVITkqOvK6qqpKk5GTS09IpK/P2Aap30IiWmpoaab/UlFS8frdGcoq3H8lJSX5XeqgKVZGSnIJzjlCoiuTkFJKTvX0AIy0tFbMkQuEQVVVVkdOLaalppKSkEHZhysrKSE9LIykpmYrKCpL93wBpaWlUVFSQZEZycgqpqSlUVlVhGBjeNsJhkswi5cnJyViSt29mRjgUprKq0vv3xbtHLsnMa/9wmIz0DMLO61Hpwo6qqkoq/X/L9LT0yL8duMj+gXerzeGSwyRZEu3aZXgP/3T4/74lJCcne3WxJJL8/9uhKq9dHQ7z26d3145Me+z2Zn+e6+skEbOAitbcXnwiItJ21RdQrdFJIg84NWq+j18mIiLSaK0RUIuA/mZ2upmlAUOBya3wPiIiEsdavJOEc67KzO4HPgGSgTHOuaY/E1xERBJSq9yo65z7GPi4NbYtIiKJIS4GixURkfijgBIRkUBSQImISCApoEREJJAUUCIiEkiBeB6UmRUALTHWUXdgbwtsJ56oTeqmdqmb2qVuape6tVS79HXO1RrtOxAB1VLMLLuu4TISmdqkbmqXuqld6qZ2qVtrt4tO8YmISCApoEREJJDiLaBGx7oCAaQ2qZvapW5ql7qpXerWqu0SV9egREQkfsTbEZSIiMQJBZSIiARSXASUmV1nZjlmlmtmj8a6Pq3NzMaYWb6ZrYoq62pm08xsg/+7i19uZvaS3zYrzOz8qNfc7a+/wczujsW+tCQzO9XMZprZGjNbbWY/8csTum3MLMPMFprZcr9dnvTLTzezBf7+v+M/vw0zS/fnc/3l/aK29XO/PMfM/jk2e9RyzCzZzJaaWZY/rzYx22JmK81smZll+2Wx+Qw559r0D94zpzYCXwbSgOXAgFjXq5X3+XLgfGBVVNnvgUf96UeB5/zpG4ApgAEXAgv88q7AJv93F3+6S6z3rZnt0hM435/uCKwHBiR62/j718GfTgUW+Ps7ARjql78C/Mif/jHwij89FHjHnx7gf2+un7QAAAZySURBVL7SgdP9z11yrPevmW3zEPA2kOXPq01gC9C9RllMPkPxcAQ1BMh1zm1yzlUA44FbYlynVuWcmw3sr1F8CzDWnx4L3BpVPs555gOdzawn8M/ANOfcfudcITANuK71a996nHO7nHNL/OmDwFqgNwneNv7+HfJnU/0fB1wFTPTLa7bLkfaaCFxtZuaXj3fOlTvnNgO5eJ+/NsnM+gA3Aq/680aCt8kxxOQzFA8B1RvYHjW/wy9LND2cc7v86d1AD3+6vvaJ63bzT8EMwjtaSPi28U9lLQPy8f5YbASKnHNV/irR+xjZf395MdCN+GuXF4BHgLA/3w21CXhfXqaa2WIzu9cvi8lnqFWeqCux5ZxzZpaw9w+YWQfgPeBB59wB74uuJ1HbxjkXAs4zs87A+8DZMa5STJnZTUC+c26xmV0Z6/oEzKXOuTwzOwWYZmbroheeyM9QPBxB5QGnRs338csSzR7/0Br/d75fXl/7xGW7mVkqXji95Zz7u1+stvE554qAmcBFeKdjjnxJjd7HyP77yzsB+4ivdrkEuNnMtuBdFrgKeJHEbhMAnHN5/u98vC8zQ4jRZygeAmoR0N/vfZOGdwFzcozrFAuTgSM9Ze4GJkWVf9fvbXMhUOwfqn8CXGtmXfweOdf6ZW2Wf03gNWCtc25k1KKEbhszy/SPnDCzdsA38K7PzQRu81er2S5H2us2YIbzrnxPBob6PdpOB/oDC0/MXrQs59zPnXN9nHP98P5mzHDODSOB2wTAzE4ys45HpvH+768iVp+hWPcYaYkfvJ4k6/HOqz8W6/qcgP39G7ALqMQ7tzsC73z4dGAD8CnQ1V/XgJf9tlkJDI7azvfwLurmAsNjvV8t0C6X4p0/XwEs839uSPS2Ab4KLPXbZRXwhF/+Zbw/prnAu0C6X57hz+f6y78cta3H/PbKAa6P9b61UPtcydFefAndJv7+L/d/Vh/5exqrz5CGOhIRkUCKh1N8IiIShxRQIiISSAooEREJJAWUiIgEkgJKREQCSQElCcfMQv5IzUd++sW6Ti3FzAaZ2Wv+9D1m9qcayz8zs8HHeP14M+vf2vUUaQwNdSSJqNQ5d15dC/ybfc05F65reRvwC+DpZrx+FN74dP/eMtURaTodQUnCM7N+/rN8xuHdyHqqmT1sZov8Z9w8GbXuY2a23szmmNnfzOw//fLIkYmZdfeH0DkySOsforb1A7/8Sv81E81snZm95YcjZnaBmc0z7/lNC82so5nNNrPzouoxx8wG1tiPjsBXnXPLG7HPN0cdQeaY2WZ/0efANVHD/YjEjP4TSiJq54/sDbAZ+CneEDV3O+fmm9m1/vwQvDvlJ5vZ5cBhvGFxzsP77CwBFjfwXiPwhn+5wMzSgblmNtVfNgj4B2AnMBe4xMwWAu8AdzrnFpnZyUAp3hBO9wAPmtmZQEYdQTQYL2Cj3Wlml0bNnwHgnJuMPySYmU0AZvnlYTPLBQY2Yt9EWpUCShJRtVN8/jWorc57ng1444Zdizc8EEAHvMDqCLzvnCvxX9eYMR+vBb5qZkfGd+vkb6sCWOic2+FvaxnQD+8xDrucc4sAnHMH/OXvAr80s4fxhpD5ax3v1RMoqFH2jnPu/qh9/Sx6oZk9gtceL0cV5wO9UEBJjCmgRDyHo6YNeNY59+foFczswWO8voqjp8wzamzrAedctYEyzXvEQ3lUUYhjfB6dcyVmNg3vAXF3AP9Ux2qlNd77mMzsGuB2vCc0R8vwtyUSU7oGJVLbJ8D3zHuuFGbW27xn48wGbjWzdv71nm9GvWYLR0Pjthrb+pF5jwHBzM70R4muTw7Q08wu8NfvGHU96FXgJWCR855SWtNa/FN4DTGzvniDfN7unKsZRmdS+1ShyAmnIyiRGpxzU83sHOALv9/CIeAu59wSM3sHb6TnfLxHvRzx38AE855A+lFU+at4p+6W+J0gCjj6uOy63rvCzO4E/sd/NEYpcA1wyHkP1zsAvF7Pa9eZWScz6+i8R94fyz14I1R/4O/jTufcDWbWA++U3+4GXi/S6jSauUgTmdmv8YLjv0/Q+/UCPgPOrq8bvJn9FDjonHu1ie/xU+CAc+61JldUpIXoFJ9IG2Bm3wUW4D2f51j3aI2i+rWt41UEjG3G60VajI6gREQkkHQEJSIigaSAEhGRQFJAiYhIICmgREQkkBRQIiISSP8PkKhYa61Mj84AAAAASUVORK5CYII=\n",
         "text/plain": "<Figure size 432x288 with 1 Axes>"
        },
        "metadata": {
         "needs_background": "light"
        },
        "output_type": "display_data"
       }
      ]
     }
    },
    "c915831a8f4e45ba912c9688d26eff78": {
     "model_module": "@jupyter-widgets/controls",
     "model_module_version": "1.5.0",
     "model_name": "VBoxModel",
     "state": {
      "_dom_classes": [
       "widget-interact"
      ],
      "_model_module": "@jupyter-widgets/controls",
      "_model_module_version": "1.5.0",
      "_model_name": "VBoxModel",
      "_view_count": null,
      "_view_module": "@jupyter-widgets/controls",
      "_view_module_version": "1.5.0",
      "_view_name": "VBoxView",
      "box_style": "",
      "children": [
       "IPY_MODEL_3404f792e53f433492ea8c1710f33d45",
       "IPY_MODEL_f987331d5951480cbba264d060c2eb76",
       "IPY_MODEL_7933f622aa7748198a59af746c2993af",
       "IPY_MODEL_c7de73cc6ba74931bee463e5b3282f23"
      ],
      "layout": "IPY_MODEL_a107284bbbed489bb1bfaae965e39b4e"
     }
    },
    "d872bdf9204649caa296629b7f4df77c": {
     "model_module": "@jupyter-widgets/base",
     "model_module_version": "1.2.0",
     "model_name": "LayoutModel",
     "state": {
      "_model_module": "@jupyter-widgets/base",
      "_model_module_version": "1.2.0",
      "_model_name": "LayoutModel",
      "_view_count": null,
      "_view_module": "@jupyter-widgets/base",
      "_view_module_version": "1.2.0",
      "_view_name": "LayoutView",
      "align_content": null,
      "align_items": null,
      "align_self": null,
      "border": null,
      "bottom": null,
      "display": null,
      "flex": null,
      "flex_flow": null,
      "grid_area": null,
      "grid_auto_columns": null,
      "grid_auto_flow": null,
      "grid_auto_rows": null,
      "grid_column": null,
      "grid_gap": null,
      "grid_row": null,
      "grid_template_areas": null,
      "grid_template_columns": null,
      "grid_template_rows": null,
      "height": null,
      "justify_content": null,
      "justify_items": null,
      "left": null,
      "margin": null,
      "max_height": null,
      "max_width": null,
      "min_height": null,
      "min_width": null,
      "object_fit": null,
      "object_position": null,
      "order": null,
      "overflow": null,
      "overflow_x": null,
      "overflow_y": null,
      "padding": null,
      "right": null,
      "top": null,
      "visibility": null,
      "width": null
     }
    },
    "f987331d5951480cbba264d060c2eb76": {
     "model_module": "@jupyter-widgets/controls",
     "model_module_version": "1.5.0",
     "model_name": "FloatSliderModel",
     "state": {
      "_dom_classes": [],
      "_model_module": "@jupyter-widgets/controls",
      "_model_module_version": "1.5.0",
      "_model_name": "FloatSliderModel",
      "_view_count": null,
      "_view_module": "@jupyter-widgets/controls",
      "_view_module_version": "1.5.0",
      "_view_name": "FloatSliderView",
      "continuous_update": true,
      "description": "duration",
      "description_tooltip": null,
      "disabled": false,
      "layout": "IPY_MODEL_0328f270ef6a4ba1bd378bcefa25d00b",
      "max": 5,
      "min": 0,
      "orientation": "horizontal",
      "readout": true,
      "readout_format": ".2f",
      "step": 0.1,
      "style": "IPY_MODEL_44b140c07962433eac815d6c1b58dcf4",
      "value": 2
     }
    }
   }
  }
 },
 "nbformat": 4,
 "nbformat_minor": 4
}
